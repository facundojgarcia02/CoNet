{
  "cells": [
    {
      "cell_type": "markdown",
      "metadata": {
        "id": "pgHVBHWUK-88"
      },
      "source": [
        "# Study of the Asortativity in Topic"
      ]
    },
    {
      "cell_type": "code",
      "execution_count": null,
      "metadata": {
        "id": "Z1D3DG0uK-9B",
        "colab": {
          "base_uri": "https://localhost:8080/"
        },
        "outputId": "17e13a8e-89e9-40eb-df08-d7d2260f8ca9"
      },
      "outputs": [
        {
          "output_type": "stream",
          "name": "stdout",
          "text": [
            "Cloning into 'CoNet'...\n",
            "remote: Enumerating objects: 809, done.\u001b[K\n",
            "remote: Counting objects: 100% (15/15), done.\u001b[K\n",
            "remote: Compressing objects: 100% (11/11), done.\u001b[K\n",
            "remote: Total 809 (delta 5), reused 13 (delta 4), pack-reused 794\u001b[K\n",
            "Receiving objects: 100% (809/809), 157.71 MiB | 11.04 MiB/s, done.\n",
            "Resolving deltas: 100% (376/376), done.\n",
            "Checking out files: 100% (124/124), done.\n"
          ]
        }
      ],
      "source": [
        "import os\n",
        "# Verificación y ubicación (y descarga de archivos en colab)\n",
        "directory_path = os.getcwd()\n",
        "folder_name = os.path.basename(directory_path)\n",
        "if folder_name != 'asortativity':\n",
        "    try:\n",
        "        os.chdir(\"/content/CoNet/Tp Final/analysis/asortativity\")\n",
        "    except FileNotFoundError:\n",
        "        !git clone https://github.com/facundojgarcia02/CoNet.git\n",
        "        os.chdir(\"/content/CoNet/Tp Final/analysis/asortativity\")"
      ]
    },
    {
      "cell_type": "code",
      "execution_count": null,
      "metadata": {
        "id": "mbuC7FqvK-9E"
      },
      "outputs": [],
      "source": [
        "import networkx as nx\n",
        "import numpy as np\n",
        "import matplotlib.pyplot as plt\n",
        "import pandas as pd\n",
        "import json\n",
        "import pickle\n",
        "\n",
        "from matplotlib import rcParams\n",
        "%matplotlib inline\n",
        "%config InlineBackend.figure_format = 'retina'\n",
        "rcParams['font.family'] = 'serif'\n",
        "rcParams['mathtext.fontset'] = 'cm'\n",
        "rcParams['figure.dpi'] = 100\n",
        "rcParams['legend.fontsize'] = 10\n",
        "rcParams['axes.labelsize'] = 'large'\n",
        "\n",
        "\n",
        "def convert_str_to_set(s):\n",
        "    try:\n",
        "        if np.isnan(s):\n",
        "            return None\n",
        "    except TypeError:\n",
        "        return set(s.replace(\"['\", \"\").replace(\"']\", \"\").split(\"', '\"))"
      ]
    },
    {
      "cell_type": "code",
      "execution_count": null,
      "metadata": {
        "id": "lfFQsLTrK-9F"
      },
      "outputs": [],
      "source": [
        "G = nx.read_gexf(\"../../state_files/PyPi Network V4.gexf\")"
      ]
    },
    {
      "cell_type": "code",
      "source": [
        "# Load labels.\n",
        "topics_series = pd.read_csv(\"../../state_files/TopicsDataframe V4.tsv\", sep=\"\\t\", index_col=0,)[\"Topic\"]\n",
        "topics_series\n",
        "labels = topics_series.dropna().apply(convert_str_to_set).to_dict()\n",
        "# Remove 'Other' topic.\n",
        "for n, l in labels.items():\n",
        "    if 'Other/Nonlisted Topic' in l:\n",
        "        l.remove('Other/Nonlisted Topic')"
      ],
      "metadata": {
        "id": "-CcG7PS5Pwne"
      },
      "execution_count": null,
      "outputs": []
    },
    {
      "cell_type": "code",
      "source": [
        "len(labels[\"django\"].intersection(labels[\"matplotlib\"]))"
      ],
      "metadata": {
        "colab": {
          "base_uri": "https://localhost:8080/"
        },
        "id": "vj0HZTo5mmcl",
        "outputId": "611775de-6245-4875-9460-fd4113cecb83"
      },
      "execution_count": null,
      "outputs": [
        {
          "output_type": "execute_result",
          "data": {
            "text/plain": [
              "0"
            ]
          },
          "metadata": {},
          "execution_count": 47
        }
      ]
    },
    {
      "cell_type": "code",
      "source": [
        "# Filter nodes with no topics.\n",
        "labels = dict(filter(lambda topic_set: len(topic_set) > 0, labels.values()))\n",
        "# Keep nodes from giant component.\n",
        "labels = dict(filter(lambda node_name: node_name in gc_nodes, labels))"
      ],
      "metadata": {
        "id": "-3jzp1bbPxoC",
        "colab": {
          "base_uri": "https://localhost:8080/",
          "height": 217
        },
        "outputId": "f5fbe728-588a-4802-8422-8b00b13240c6"
      },
      "execution_count": null,
      "outputs": [
        {
          "output_type": "error",
          "ename": "ValueError",
          "evalue": "ignored",
          "traceback": [
            "\u001b[0;31m---------------------------------------------------------------------------\u001b[0m",
            "\u001b[0;31mValueError\u001b[0m                                Traceback (most recent call last)",
            "\u001b[0;32m<ipython-input-49-c9bc6eb3b2d5>\u001b[0m in \u001b[0;36m<module>\u001b[0;34m\u001b[0m\n\u001b[1;32m      1\u001b[0m \u001b[0;31m# Filter nodes with no topics.\u001b[0m\u001b[0;34m\u001b[0m\u001b[0;34m\u001b[0m\u001b[0;34m\u001b[0m\u001b[0m\n\u001b[0;32m----> 2\u001b[0;31m \u001b[0mlabels\u001b[0m \u001b[0;34m=\u001b[0m \u001b[0mdict\u001b[0m\u001b[0;34m(\u001b[0m\u001b[0mfilter\u001b[0m\u001b[0;34m(\u001b[0m\u001b[0;32mlambda\u001b[0m \u001b[0mtopic_set\u001b[0m\u001b[0;34m:\u001b[0m \u001b[0mlen\u001b[0m\u001b[0;34m(\u001b[0m\u001b[0mtopic_set\u001b[0m\u001b[0;34m)\u001b[0m \u001b[0;34m>\u001b[0m \u001b[0;36m0\u001b[0m\u001b[0;34m,\u001b[0m \u001b[0mlabels\u001b[0m\u001b[0;34m.\u001b[0m\u001b[0mvalues\u001b[0m\u001b[0;34m(\u001b[0m\u001b[0;34m)\u001b[0m\u001b[0;34m)\u001b[0m\u001b[0;34m)\u001b[0m\u001b[0;34m\u001b[0m\u001b[0;34m\u001b[0m\u001b[0m\n\u001b[0m\u001b[1;32m      3\u001b[0m \u001b[0;31m# Keep nodes from giant component.\u001b[0m\u001b[0;34m\u001b[0m\u001b[0;34m\u001b[0m\u001b[0;34m\u001b[0m\u001b[0m\n\u001b[1;32m      4\u001b[0m \u001b[0mlabels\u001b[0m \u001b[0;34m=\u001b[0m \u001b[0mdict\u001b[0m\u001b[0;34m(\u001b[0m\u001b[0mfilter\u001b[0m\u001b[0;34m(\u001b[0m\u001b[0;32mlambda\u001b[0m \u001b[0mnode_name\u001b[0m\u001b[0;34m:\u001b[0m \u001b[0mnode_name\u001b[0m \u001b[0;32min\u001b[0m \u001b[0mgc_nodes\u001b[0m\u001b[0;34m,\u001b[0m \u001b[0mlabels\u001b[0m\u001b[0;34m)\u001b[0m\u001b[0;34m)\u001b[0m\u001b[0;34m\u001b[0m\u001b[0;34m\u001b[0m\u001b[0m\n",
            "\u001b[0;31mValueError\u001b[0m: dictionary update sequence element #0 has length 5; 2 is required"
          ]
        }
      ]
    },
    {
      "cell_type": "code",
      "source": [],
      "metadata": {
        "id": "XeRnxhh7qHDu"
      },
      "execution_count": null,
      "outputs": []
    }
  ],
  "metadata": {
    "kernelspec": {
      "display_name": "Python 3.9.12 ('facu39')",
      "language": "python",
      "name": "python3"
    },
    "language_info": {
      "codemirror_mode": {
        "name": "ipython",
        "version": 3
      },
      "file_extension": ".py",
      "mimetype": "text/x-python",
      "name": "python",
      "nbconvert_exporter": "python",
      "pygments_lexer": "ipython3",
      "version": "3.9.12"
    },
    "orig_nbformat": 4,
    "vscode": {
      "interpreter": {
        "hash": "be15c7ac4da6fd5d8f9a71357bdbc857b1ae124919dc2c286feb746f5263f095"
      }
    },
    "colab": {
      "provenance": []
    },
    "gpuClass": "standard"
  },
  "nbformat": 4,
  "nbformat_minor": 0
}