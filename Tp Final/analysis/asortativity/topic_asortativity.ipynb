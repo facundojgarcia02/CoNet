{
 "cells": [
  {
   "cell_type": "markdown",
   "metadata": {},
   "source": [
    "# Study of the Asortativity in Topic"
   ]
  },
  {
   "cell_type": "code",
   "execution_count": 3,
   "metadata": {},
   "outputs": [],
   "source": [
    "import os\n",
    "# Verificación y ubicación (y descarga de archivos en colab)\n",
    "directory_path = os.getcwd()\n",
    "folder_name = os.path.basename(directory_path)\n",
    "if folder_name != 'asortativity':\n",
    "    try:\n",
    "        os.chdir(\"/content/CoNet/Tp Final/analysis/asortativity\")\n",
    "    except FileNotFoundError:\n",
    "        !git clone https://github.com/facundojgarcia02/CoNet.git\n",
    "        os.chdir(\"/content/CoNet/Tp Final/analysis/asortativity'\")"
   ]
  },
  {
   "cell_type": "code",
   "execution_count": 1,
   "metadata": {},
   "outputs": [],
   "source": [
    "import networkx as nx\n",
    "import numpy as np\n",
    "import matplotlib.pyplot as plt\n",
    "import pandas as pd\n",
    "import json\n",
    "import pickle\n",
    "\n",
    "from matplotlib import rcParams\n",
    "%matplotlib inline\n",
    "%config InlineBackend.figure_format = 'retina'\n",
    "rcParams['font.family'] = 'serif'\n",
    "rcParams['mathtext.fontset'] = 'cm'\n",
    "rcParams['figure.dpi'] = 100\n",
    "rcParams['legend.fontsize'] = 10\n",
    "rcParams['axes.labelsize'] = 'large'"
   ]
  },
  {
   "cell_type": "code",
   "execution_count": null,
   "metadata": {},
   "outputs": [],
   "source": [
    "G = nx.read_gexf(\"../../state_files/PyPi Network V4.gexf\")"
   ]
  }
 ],
 "metadata": {
  "kernelspec": {
   "display_name": "Python 3.9.12 ('facu39')",
   "language": "python",
   "name": "python3"
  },
  "language_info": {
   "codemirror_mode": {
    "name": "ipython",
    "version": 3
   },
   "file_extension": ".py",
   "mimetype": "text/x-python",
   "name": "python",
   "nbconvert_exporter": "python",
   "pygments_lexer": "ipython3",
   "version": "3.9.12"
  },
  "orig_nbformat": 4,
  "vscode": {
   "interpreter": {
    "hash": "be15c7ac4da6fd5d8f9a71357bdbc857b1ae124919dc2c286feb746f5263f095"
   }
  }
 },
 "nbformat": 4,
 "nbformat_minor": 2
}
