{
 "cells": [
  {
   "cell_type": "markdown",
   "metadata": {},
   "source": [
    "# Study of the Asortativity in Topic"
   ]
  },
  {
   "cell_type": "code",
   "execution_count": 3,
   "metadata": {},
   "outputs": [],
   "source": [
    "import os\n",
    "# Verificación y ubicación (y descarga de archivos en colab)\n",
    "directory_path = os.getcwd()\n",
    "folder_name = os.path.basename(directory_path)\n",
    "if folder_name != 'asortativity':\n",
    "    try:\n",
    "        os.chdir(\"/content/CoNet/Tp Final/analysis/asortativity\")\n",
    "    except FileNotFoundError:\n",
    "        !git clone https://github.com/facundojgarcia02/CoNet.git\n",
    "        os.chdir(\"/content/CoNet/Tp Final/analysis/asortativity'\")"
   ]
  },
  {
   "cell_type": "code",
   "execution_count": 4,
   "metadata": {},
   "outputs": [],
   "source": [
    "import networkx as nx\n",
    "import numpy as np\n",
    "import matplotlib.pyplot as plt\n",
    "import pandas as pd\n",
    "import json\n",
    "import pickle\n",
    "\n",
    "from matplotlib import rcParams\n",
    "%matplotlib inline\n",
    "%config InlineBackend.figure_format = 'retina'\n",
    "rcParams['font.family'] = 'serif'\n",
    "rcParams['mathtext.fontset'] = 'cm'\n",
    "rcParams['figure.dpi'] = 100\n",
    "rcParams['legend.fontsize'] = 10\n",
    "rcParams['axes.labelsize'] = 'large'"
   ]
  },
  {
   "cell_type": "code",
   "execution_count": null,
   "metadata": {},
   "outputs": [],
   "source": [
    "G = nx.read_gexf(\"../../state_files/PyPi Network V4.gexf\")"
   ]
  },
  {
   "cell_type": "code",
   "execution_count": 5,
   "metadata": {},
   "outputs": [],
   "source": [
    "# Load labels.\n",
    "with open(\"../../state_files/PyPi Dataframe V4.pickle\", \"rb\") as f:\n",
    "    df = pickle.load(f)\n",
    "# labels = df[\"Topic\"].dropna().to_dict()\n",
    "# # Remove 'Other' topic.\n",
    "# for n, l in labels.items():\n",
    "#     if 'Other/Nonlisted Topic' in l:\n",
    "#         l.remove('Other/Nonlisted Topic')"
   ]
  },
  {
   "cell_type": "code",
   "execution_count": 8,
   "metadata": {},
   "outputs": [],
   "source": [
    "df.to_csv(\"../../state_files/TopicsDataframe V4.tsv\", sep=\"\\t\", columns=[\"Topic\"])"
   ]
  },
  {
   "cell_type": "code",
   "execution_count": 26,
   "metadata": {},
   "outputs": [],
   "source": [
    "topics_series = pd.read_csv(\"../../state_files/TopicsDataframe V4.tsv\", sep=\"\\t\", index_col=0,\n",
    "                            converters={\"Topic\": lambda s: s.removeprefix(\"['\").removesuffix(\"']\").split(\"', '\")})[\"Topic\"]"
   ]
  },
  {
   "cell_type": "code",
   "execution_count": 31,
   "metadata": {},
   "outputs": [
    {
     "data": {
      "text/plain": [
       "0-core-client                                                                          []\n",
       "0-orchestrator                                                                         []\n",
       "01d61084-d29e-11e9-96d1-7c5cf84ffe8e                                                   []\n",
       "0x-contract-addresses                   [Internet, Office/Business, Other/Nonlisted To...\n",
       "0x-contract-artifacts                   [Internet, Office/Business, Other/Nonlisted To...\n",
       "                                                              ...                        \n",
       "zzhprobm                                                                               []\n",
       "zzlog                                                                                  []\n",
       "zzsukitest                                                                             []\n",
       "zzx-deep-genome                                                                        []\n",
       "zzz001                                                                                 []\n",
       "Name: Topic, Length: 185242, dtype: object"
      ]
     },
     "execution_count": 31,
     "metadata": {},
     "output_type": "execute_result"
    }
   ],
   "source": [
    "topics_series"
   ]
  }
 ],
 "metadata": {
  "kernelspec": {
   "display_name": "Python 3.9.12 ('facu39')",
   "language": "python",
   "name": "python3"
  },
  "language_info": {
   "codemirror_mode": {
    "name": "ipython",
    "version": 3
   },
   "file_extension": ".py",
   "mimetype": "text/x-python",
   "name": "python",
   "nbconvert_exporter": "python",
   "pygments_lexer": "ipython3",
   "version": "3.9.12"
  },
  "orig_nbformat": 4,
  "vscode": {
   "interpreter": {
    "hash": "be15c7ac4da6fd5d8f9a71357bdbc857b1ae124919dc2c286feb746f5263f095"
   }
  }
 },
 "nbformat": 4,
 "nbformat_minor": 2
}
