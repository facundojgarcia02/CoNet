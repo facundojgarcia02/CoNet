{
 "cells": [
  {
   "cell_type": "code",
   "execution_count": 1,
   "metadata": {},
   "outputs": [],
   "source": [
    "import networkx as nx\n",
    "import numpy as np\n",
    "import matplotlib.pyplot as plt\n",
    "import pandas as pd\n",
    "import json\n",
    "import pickle\n",
    "\n",
    "from collections import Counter\n",
    "from tqdm import tqdm\n",
    "from matplotlib import rcParams\n",
    "\n",
    "%matplotlib inline\n",
    "%config InlineBackend.figure_format = 'retina'\n",
    "rcParams['font.family'] = 'serif'\n",
    "rcParams['mathtext.fontset'] = 'cm'\n",
    "rcParams['figure.dpi'] = 100\n",
    "rcParams['legend.fontsize'] = 10\n",
    "rcParams['axes.labelsize'] = 'large'\n"
   ]
  },
  {
   "cell_type": "code",
   "execution_count": 4,
   "metadata": {},
   "outputs": [],
   "source": [
    "# Load Graph.\n",
    "G = nx.read_gexf(\"../../state_files/PyPi Network V4.gexf\")\n",
    "# Keep only giant component.\n",
    "gc_nodes = sorted(\n",
    "    nx.connected_components(G.to_undirected()), key=lambda x: len(x), reverse=True\n",
    ")[0]\n",
    "not_gc_nodes = set(G.nodes()) - gc_nodes\n",
    "G.remove_nodes_from(not_gc_nodes)\n",
    "\n",
    "with open(\"../../state_files/PyPi Dataframe V4 with subtopics.df\", \"rb\") as f:\n",
    "    df = pickle.load(f)\n",
    "\n",
    "labels = df[\"Topics for Propagation\"].dropna().to_dict()\n",
    "# Remove 'Other' topic.\n",
    "for n, l in labels.items():\n",
    "    if \"Other/Nonlisted Topic\" in l:\n",
    "        l.remove(\"Other/Nonlisted Topic\")\n",
    "# Filter nodes with no topics.\n",
    "labels = dict(filter(lambda x: len(x[1]) > 0, labels.items()))\n",
    "# Keep nodes from giant component.\n",
    "labels = dict(filter(lambda x: x[0] in gc_nodes, labels.items()))\n",
    "labels = {n: set(l) for n, l in labels.items()}"
   ]
  },
  {
   "cell_type": "code",
   "execution_count": 5,
   "metadata": {},
   "outputs": [
    {
     "name": "stderr",
     "output_type": "stream",
     "text": [
      "100%|██████████| 878695/878695 [00:00<00:00, 2488369.39it/s]"
     ]
    },
    {
     "name": "stdout",
     "output_type": "stream",
     "text": [
      "Cantidad de enlaces cuyos nodos tienen etiquetas: 154893\n",
      "Cantidad de enlaces: 878695\n",
      "Porcentaje de enlaces a utilizar: 17.6%\n"
     ]
    },
    {
     "name": "stderr",
     "output_type": "stream",
     "text": [
      "\n"
     ]
    }
   ],
   "source": [
    "# Contar la cantidad de enlaces que hay entre nodos etiquetados.\n",
    "edges = list(G.edges())\n",
    "nodes_with_label = labels.keys()\n",
    "\n",
    "edges_with_label = [\n",
    "    e for e in tqdm(edges) if e[0] in nodes_with_label and e[1] in nodes_with_label\n",
    "]\n",
    "print(f\"Cantidad de enlaces cuyos nodos tienen etiquetas: {len(edges_with_label)}\")\n",
    "print(f\"Cantidad de enlaces: {len(edges)}\")\n",
    "print(f\"Porcentaje de enlaces a utilizar: {len(edges_with_label)/len(edges)*100:.1f}%\")"
   ]
  },
  {
   "cell_type": "code",
   "execution_count": 7,
   "metadata": {},
   "outputs": [
    {
     "data": {
      "text/plain": [
       "{'WWW/HTTP': 28.63,\n",
       " 'Hardware': 28.6,\n",
       " 'Z39.50': 20.0,\n",
       " 'Scientific/Engineering': 19.73,\n",
       " 'Artificial Intelligence': 19.39,\n",
       " 'GIS': 19.08,\n",
       " 'Utilities': 19.03,\n",
       " 'Office/Business': 18.59,\n",
       " 'Astronomy': 17.62,\n",
       " 'Electronic Design Automation (EDA)': 17.55,\n",
       " 'Security': 16.15,\n",
       " 'Multimedia': 15.65,\n",
       " 'Bio-Informatics': 15.4,\n",
       " 'Medical Science Apps.': 14.2,\n",
       " 'Database': 12.75,\n",
       " 'Text Processing': 11.72,\n",
       " 'Power (UPS)': 11.54,\n",
       " 'Physics': 11.51,\n",
       " 'Text Editors': 11.42,\n",
       " 'Games/Entertainment': 11.04,\n",
       " 'Mathematics': 11.0,\n",
       " 'Internet': 10.43,\n",
       " 'Systems Administration': 10.1,\n",
       " 'Chemistry': 9.8,\n",
       " 'Communications': 9.79,\n",
       " 'Monitoring': 9.63,\n",
       " 'Visualization': 9.51,\n",
       " 'Networking': 9.08,\n",
       " 'Information Analysis': 8.73,\n",
       " 'Distributed Computing': 8.32,\n",
       " 'Documentation': 8.03,\n",
       " 'Image Recognition': 7.79,\n",
       " 'Boot': 7.06,\n",
       " 'Artistic Software': 6.52,\n",
       " 'Filesystems': 6.39,\n",
       " 'Interface Engine/Protocol Translator': 6.37,\n",
       " 'Software Distribution': 6.26,\n",
       " 'Home Automation': 6.02,\n",
       " 'Operating System Kernels': 6.02,\n",
       " 'Education': 5.89,\n",
       " 'XMPP': 5.56,\n",
       " 'File Transfer Protocol (FTP)': 5.53,\n",
       " 'Hydrology': 5.2,\n",
       " 'Name Service (DNS)': 5.15,\n",
       " 'System Shells': 4.94,\n",
       " 'Installation/Setup': 4.83,\n",
       " 'Artificial Life': 4.33,\n",
       " 'Log Analysis': 4.28,\n",
       " 'Terminals': 4.05,\n",
       " 'System': 4.04,\n",
       " 'Atmospheric Science': 3.86,\n",
       " 'Operating System': 3.78,\n",
       " 'Emulators': 3.77,\n",
       " 'Adaptive Technologies': 3.68,\n",
       " 'Shells': 3.63,\n",
       " 'Image Processing': 3.57,\n",
       " 'Human Machine Interfaces': 3.5,\n",
       " 'Archiving': 3.42,\n",
       " 'Proxy Servers': 3.23,\n",
       " 'Clustering': 2.8,\n",
       " 'Religion': 2.56,\n",
       " 'Desktop Environment': 1.71,\n",
       " 'Logging': 1.46,\n",
       " 'Benchmark': 1.03,\n",
       " 'Recovery Tools': 0.64,\n",
       " 'Sociology': 0.5,\n",
       " 'Printing': 0.44}"
      ]
     },
     "execution_count": 7,
     "metadata": {},
     "output_type": "execute_result"
    }
   ],
   "source": [
    "collector_in_common = []\n",
    "collector_in_total = []\n",
    "\n",
    "for e in edges_with_label:\n",
    "    # Vemos si tienen alguna etiqueta que coincida:\n",
    "    labels_in_common = labels[e[0]].intersection(labels[e[1]])\n",
    "    # Guardamos las etiquetas que aparecen.\n",
    "    labels_in_total = labels[e[0]].union(labels[e[1]])\n",
    "\n",
    "    collector_in_common += list(labels_in_common)\n",
    "    collector_in_total += list(labels_in_total)\n",
    "\n",
    "counter_in_common = dict(Counter(collector_in_common))\n",
    "counter_in_total = dict(Counter(collector_in_total))\n",
    "\n",
    "porcentaje = {t: round(counter_in_common[t]/counter_in_total[t]*100, 2) for t in counter_in_total.keys() if t in counter_in_common.keys()}\n",
    "dict(sorted(porcentaje.items(), key = lambda x: x[1], reverse=True))"
   ]
  },
  {
   "cell_type": "code",
   "execution_count": 8,
   "metadata": {},
   "outputs": [],
   "source": [
    "gc = G.copy().to_undirected()\n",
    "gc.remove_nodes_from(set(G.nodes) - set(nodes_with_label)) #Elimino nodos sin etiqueta\n",
    "neighs_by_node = {n: list(nx.neighbors(gc, n)) for n in gc.nodes} # Busco los vecinos de cada nodo\n",
    "gc.remove_nodes_from([n[0] for n in filter(lambda x: len(x[1])==0, neighs_by_node.items())]) #Elimino los nodos sin vecinos.\n",
    "neighs_by_node = {n: list(nx.neighbors(gc, n)) for n in gc.nodes} #Me quedo con los vecinos que si tienen nodos."
   ]
  },
  {
   "cell_type": "code",
   "execution_count": 9,
   "metadata": {},
   "outputs": [
    {
     "data": {
      "text/plain": [
       "{'WWW/HTTP': 22.46,\n",
       " 'Hardware': 22.09,\n",
       " 'Bio-Informatics': 20.54,\n",
       " 'Electronic Design Automation (EDA)': 18.14,\n",
       " 'Games/Entertainment': 17.67,\n",
       " 'Scientific/Engineering': 17.16,\n",
       " 'Utilities': 16.83,\n",
       " 'Artificial Intelligence': 16.06,\n",
       " 'GIS': 15.92,\n",
       " 'Astronomy': 13.0,\n",
       " 'Multimedia': 12.89,\n",
       " 'Medical Science Apps.': 12.56,\n",
       " 'Security': 10.38,\n",
       " 'Database': 10.09,\n",
       " 'Office/Business': 9.73,\n",
       " 'Physics': 9.3,\n",
       " 'Communications': 9.01,\n",
       " 'Internet': 7.75,\n",
       " 'Text Processing': 6.83,\n",
       " 'Chemistry': 5.91,\n",
       " 'Artificial Life': 5.62,\n",
       " 'Hydrology': 5.34,\n",
       " 'Monitoring': 5.02,\n",
       " 'Home Automation': 4.69,\n",
       " 'Networking': 4.58,\n",
       " 'Mathematics': 4.32,\n",
       " 'Distributed Computing': 3.95,\n",
       " 'Information Analysis': 3.49,\n",
       " 'Religion': 3.28,\n",
       " 'Name Service (DNS)': 3.11,\n",
       " 'Visualization': 3.07,\n",
       " 'Emulators': 2.97,\n",
       " 'Operating System Kernels': 2.83,\n",
       " 'System': 2.82,\n",
       " 'Operating System': 2.75,\n",
       " 'Software Distribution': 2.7,\n",
       " 'Filesystems': 2.38,\n",
       " 'Atmospheric Science': 2.15,\n",
       " 'Documentation': 2.1,\n",
       " 'Image Processing': 2.01,\n",
       " 'Clustering': 1.99,\n",
       " 'Archiving': 1.93,\n",
       " 'Image Recognition': 1.88,\n",
       " 'Artistic Software': 1.82,\n",
       " 'Text Editors': 1.55,\n",
       " 'Systems Administration': 1.41,\n",
       " 'Education': 1.35,\n",
       " 'Terminals': 1.31,\n",
       " 'File Transfer Protocol (FTP)': 1.11,\n",
       " 'Interface Engine/Protocol Translator': 1.07,\n",
       " 'Installation/Setup': 1.07,\n",
       " 'Human Machine Interfaces': 0.93,\n",
       " 'Shells': 0.7,\n",
       " 'Desktop Environment': 0.51,\n",
       " 'Logging': 0.44,\n",
       " 'Proxy Servers': 0.41,\n",
       " 'Printing': 0.03,\n",
       " 'Console Fonts': 0.0,\n",
       " 'Adaptive Technologies': 0.0,\n",
       " 'Boot': 0.0,\n",
       " 'System Shells': 0.0,\n",
       " 'Recovery Tools': 0.0,\n",
       " 'Power (UPS)': 0.0,\n",
       " 'Finger': 0.0,\n",
       " 'WAP': 0.0,\n",
       " 'Log Analysis': 0.0,\n",
       " 'XMPP': 0.0,\n",
       " 'Benchmark': 0.0,\n",
       " 'Z39.50': 0.0,\n",
       " 'Sociology': 0.0}"
      ]
     },
     "execution_count": 9,
     "metadata": {},
     "output_type": "execute_result"
    }
   ],
   "source": [
    "topics = set([item for l in labels.values() for item in l])\n",
    "correct = {t: 0 for t in topics}\n",
    "total = {t: 0 for t in topics}\n",
    "for node, node_neighs in neighs_by_node.items():\n",
    "    collector = []\n",
    "    for neigh in node_neighs:\n",
    "        collector += list(labels[neigh])\n",
    "    counter = dict(sorted(Counter(collector).items(), key = lambda x: x[1], reverse=True))\n",
    "    if len(counter.keys()) == 0:\n",
    "        print(node)\n",
    "    propagated_topic = list(counter.keys())[0]\n",
    "    if propagated_topic in labels[node]:\n",
    "        correct[propagated_topic] += 1\n",
    "    for t in counter.keys():\n",
    "        total[t] += 1\n",
    "\n",
    "porcentaje = {t: round(correct[t]/total[t]*100, 2) for t in total.keys()}\n",
    "dict(sorted(porcentaje.items(), key = lambda x: x[1], reverse=True))"
   ]
  }
 ],
 "metadata": {
  "kernelspec": {
   "display_name": "Python 3.10.8 64-bit",
   "language": "python",
   "name": "python3"
  },
  "language_info": {
   "codemirror_mode": {
    "name": "ipython",
    "version": 3
   },
   "file_extension": ".py",
   "mimetype": "text/x-python",
   "name": "python",
   "nbconvert_exporter": "python",
   "pygments_lexer": "ipython3",
   "version": "3.10.8"
  },
  "orig_nbformat": 4,
  "vscode": {
   "interpreter": {
    "hash": "a42cd95ca9a57c6387dbbfdd995a278478871c13a93fa5b980ac93bb6d23c0e2"
   }
  }
 },
 "nbformat": 4,
 "nbformat_minor": 2
}
