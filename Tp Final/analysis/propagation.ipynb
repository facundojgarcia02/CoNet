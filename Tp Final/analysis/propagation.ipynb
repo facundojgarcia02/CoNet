{
 "cells": [
  {
   "cell_type": "code",
   "execution_count": 2,
   "metadata": {},
   "outputs": [],
   "source": [
    "import networkx as nx\n",
    "import numpy as np\n",
    "import matplotlib.pyplot as plt\n",
    "import pandas as pd\n",
    "from scipy.sparse.linalg import expm\n",
    "from networkx.algorithms.traversal.breadth_first_search import bfs_edges\n",
    "import json\n",
    "\n",
    "from matplotlib import rcParams\n",
    "%matplotlib inline\n",
    "%config InlineBackend.figure_format = 'retina'\n",
    "rcParams['font.family'] = 'serif'\n",
    "rcParams['mathtext.fontset'] = 'cm'\n",
    "rcParams['figure.dpi'] = 100\n",
    "rcParams['legend.fontsize'] = 10\n",
    "rcParams['axes.labelsize'] = 'large'"
   ]
  },
  {
   "cell_type": "code",
   "execution_count": 3,
   "metadata": {},
   "outputs": [],
   "source": [
    "with open(\"../proc_jsons.json\", \"r\") as f:\n",
    "    deps = json.load(f)"
   ]
  },
  {
   "cell_type": "code",
   "execution_count": 4,
   "metadata": {},
   "outputs": [],
   "source": [
    "G = nx.DiGraph()\n",
    "nodes = [d[\"Name\"] for d in deps]\n",
    "edges = []\n",
    "for d in deps:\n",
    "    edges += [(p, d[\"Name\"]) for p in d[\"Dependencies\"]]\n",
    "\n",
    "G.add_nodes_from(nodes)\n",
    "G.add_edges_from(edges)\n",
    "\n",
    "del(deps)\n",
    "del(nodes)\n",
    "del(edges)"
   ]
  },
  {
   "cell_type": "code",
   "execution_count": 5,
   "metadata": {},
   "outputs": [
    {
     "name": "stdout",
     "output_type": "stream",
     "text": [
      "Found cycle: [('Bitmasher', 'Bitmasher')]\n"
     ]
    }
   ],
   "source": [
    "try:\n",
    "    print(\"Found cycle:\", nx.find_cycle(G, source=\"seaborn\"))\n",
    "except nx.NetworkXNoCycle:\n",
    "    print(\"No cycle found\")"
   ]
  },
  {
   "cell_type": "code",
   "execution_count": null,
   "metadata": {},
   "outputs": [],
   "source": [
    "# Nodos con grado in 0 = Nodos que no dependen de nada.\n",
    "no_dep_nodes = [x[0] for x in list(filter(lambda x: x[1] == 0, tuple(G.in_degree())))]\n",
    "\n",
    "class SearchScope:\n",
    "\n",
    "    def __init__(self, G) -> None:\n",
    "        self.G = G\n",
    "        self.scoped_nodes = {}\n",
    "\n",
    "    def __call__(self, node: str, path: list = None) -> None:\n",
    "        \"\"\"\n",
    "        Search scope of a node.\n",
    "\n",
    "        Args:\n",
    "            node (str): Node to search.\n",
    "            path (list, optional): List of nodes reached before. Defaults to None.\n",
    "        \"\"\"\n",
    "        \n",
    "        neighs = list(nx.neighbors(self.G, node))\n",
    "        scope = set()\n",
    "        if path is None:\n",
    "            path = []\n",
    "\n",
    "        for n in neighs:\n",
    "            if n not in path:\n",
    "                try:\n",
    "                    partial_scope = self.scoped_nodes[n]\n",
    "                except KeyError:\n",
    "                    if node not in path:\n",
    "                        path.append(node)\n",
    "                    self(n, path = path)\n",
    "                    partial_scope = self.scoped_nodes[n]\n",
    "                finally:\n",
    "                    scope = scope | partial_scope | set([n])\n",
    "\n",
    "        self.scoped_nodes[node] = scope\n",
    "        print(len(self.scoped_nodes), end=\"\\r\")\n",
    "    \n",
    "        return None\n",
    "\n",
    "search = SearchScope(G)"
   ]
  },
  {
   "cell_type": "code",
   "execution_count": 7,
   "metadata": {},
   "outputs": [
    {
     "ename": "",
     "evalue": "",
     "output_type": "error",
     "traceback": [
      "\u001b[1;31mCanceled future for execute_request message before replies were done"
     ]
    },
    {
     "ename": "",
     "evalue": "",
     "output_type": "error",
     "traceback": [
      "\u001b[1;31mEl Kernel se bloqueó al ejecutar código en la celda actual o en una celda anterior. Revise el código de las celdas para identificar una posible causa del error. Haga clic <a href='https://aka.ms/vscodeJupyterKernelCrash'>aquí</a> para obtener más información. Vea el [registro] de Jupyter (command:jupyter.viewOutput) para obtener más detalles."
     ]
    }
   ],
   "source": [
    "for n in no_dep_nodes:\n",
    "    search(n)"
   ]
  },
  {
   "cell_type": "code",
   "execution_count": null,
   "metadata": {},
   "outputs": [],
   "source": []
  }
 ],
 "metadata": {
  "kernelspec": {
   "display_name": "Python 3.10.8 64-bit",
   "language": "python",
   "name": "python3"
  },
  "language_info": {
   "codemirror_mode": {
    "name": "ipython",
    "version": 3
   },
   "file_extension": ".py",
   "mimetype": "text/x-python",
   "name": "python",
   "nbconvert_exporter": "python",
   "pygments_lexer": "ipython3",
   "version": "3.10.8"
  },
  "orig_nbformat": 4,
  "vscode": {
   "interpreter": {
    "hash": "a42cd95ca9a57c6387dbbfdd995a278478871c13a93fa5b980ac93bb6d23c0e2"
   }
  }
 },
 "nbformat": 4,
 "nbformat_minor": 2
}
