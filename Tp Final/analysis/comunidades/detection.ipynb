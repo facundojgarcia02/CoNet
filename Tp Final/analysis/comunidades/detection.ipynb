{
 "cells": [
  {
   "cell_type": "code",
   "execution_count": 2,
   "metadata": {},
   "outputs": [],
   "source": [
    "import pandas as pd\n",
    "import networkx as nx\n",
    "import igraph as ig\n",
    "import numpy as np\n",
    "import matplotlib.pyplot as plt\n",
    "try:\n",
    "    import leidenalg as la\n",
    "except ModuleNotFoundError:\n",
    "        !conda install leidenalg\n",
    "\n",
    "import pickle\n",
    "\n",
    "from community import community_louvain as louvain # pip install python-louvain\n",
    "\n",
    "\n",
    "CUSTOM_FORMAT = {\"font_size\": 8,\n",
    "                \"node_size\": 80, \"node_color\": \"#ff0000\", \"edgecolors\": \"#911a07\",\n",
    "                \"width\": 0.4, \"edge_color\": \"black\"}"
   ]
  },
  {
   "cell_type": "code",
   "execution_count": 3,
   "metadata": {},
   "outputs": [],
   "source": [
    "with open(\"../../state_files/PyPi Dataframe V4.pickle\", \"rb\") as f:\n",
    "    df = pickle.load(f)\n",
    "\n",
    "G = nx.read_gexf('../../state_files/PyPi Network V4.gexf')\n",
    "G_ig = ig.Graph.TupleList(G.edges(), directed=True) # Mejor manera que la que teníamos. Conserva nombres."
   ]
  },
  {
   "cell_type": "code",
   "execution_count": 23,
   "metadata": {},
   "outputs": [
    {
     "data": {
      "text/plain": [
       "<igraph.Graph at 0x158f0344740>"
      ]
     },
     "execution_count": 23,
     "metadata": {},
     "output_type": "execute_result"
    }
   ],
   "source": [
    "G_ig"
   ]
  },
  {
   "cell_type": "markdown",
   "metadata": {},
   "source": [
    "# Comunidades"
   ]
  },
  {
   "cell_type": "code",
   "execution_count": 3,
   "metadata": {},
   "outputs": [],
   "source": [
    "def clusters_to_list(clusters, G) -> dict:\n",
    "    \"\"\"\n",
    "    Arma un diccionario con los nombres de los nodos\n",
    "    como keys y el id del cluster como valor.\n",
    "    \"\"\"\n",
    "    dic = {}\n",
    "    clusters_list = []\n",
    "    for i, cluster in enumerate(sorted(list(clusters), key = len, reverse = True)):\n",
    "        nodes_in_cluster = []\n",
    "        for node in cluster:\n",
    "            nodes_in_cluster.append(G.vs[node]['_nx_name'])\n",
    "        clusters_list.append(nodes_in_cluster)\n",
    "    return clusters_list"
   ]
  },
  {
   "cell_type": "code",
   "execution_count": 4,
   "metadata": {},
   "outputs": [
    {
     "name": "stdout",
     "output_type": "stream",
     "text": [
      "Leiden Algorithm done.\n"
     ]
    }
   ],
   "source": [
    "# Louvain no se puede hacer porque no funciona para redes dirigidas.\n",
    "# Fast Greedy tampoco se puede hacer en redes dirigidas.\n",
    "\n",
    "infomap = False\n",
    "edge_betweenes = False\n",
    "leidenalg = True\n",
    "\n",
    "# Infomap.\n",
    "if infomap:\n",
    "    try:\n",
    "        with open(\"com_im.pickle\", \"rb\") as f:\n",
    "            com_im = pickle.load(f)\n",
    "\n",
    "    except FileNotFoundError:\n",
    "        com_im = G_ig.community_infomap()\n",
    "        with open(\"com_im.pickle\", \"wb\") as f:\n",
    "            pickle.dump(com_im, f)\n",
    "        print(\"Infomap done.\")\n",
    "\n",
    "# Edge Betweeness\n",
    "if edge_betweenes:\n",
    "    try:\n",
    "        with open(\"com_bt.pickle\", \"rb\") as f:\n",
    "            com_bt = pickle.load(f)\n",
    "    except FileNotFoundError:\n",
    "        com_bt = G_ig.community_edge_betweenness(clusters = None, directed = True, weights = None)\n",
    "        with open(\"com_bt.pickle\", \"wb\") as f:\n",
    "            pickle.dump(com_bt, f)\n",
    "        print(\"Edge Betweeness done.\")\n",
    "\n",
    "# Leiden Algorithm\n",
    "if leidenalg:\n",
    "    try:\n",
    "        with open(\"com_la.pickle\", \"rb\") as f:\n",
    "            com_la = pickle.load(f)\n",
    "    except FileNotFoundError:\n",
    "        com_la = la.find_partition(G_ig, la.ModularityVertexPartition)\n",
    "        # with open(\"com_la.pickle\", \"wb\") as f:\n",
    "        #     pickle.dump(com_la, f)\n",
    "        print(\"Leiden Algorithm done.\")\n"
   ]
  },
  {
   "cell_type": "markdown",
   "metadata": {},
   "source": [
    "# LeidenAlg"
   ]
  },
  {
   "cell_type": "code",
   "execution_count": 5,
   "metadata": {},
   "outputs": [],
   "source": [
    "def get_communities(com_ig) -> list:\n",
    "    \n",
    "    communities = []\n",
    "    for com in com_ig:\n",
    "        communities.append(com)\n",
    "\n",
    "    communities = sorted(communities, reverse=True, key=len)\n",
    "    \n",
    "    return communities"
   ]
  },
  {
   "cell_type": "code",
   "execution_count": 6,
   "metadata": {},
   "outputs": [],
   "source": [
    "communities = get_communities(com_la)"
   ]
  },
  {
   "cell_type": "code",
   "execution_count": null,
   "metadata": {},
   "outputs": [],
   "source": [
    "G_ig_com0 = G_ig.subgraph(communities[0])\n",
    "G_com0 = nx.subgraph(G, G_ig_com0.vs['name'])"
   ]
  },
  {
   "cell_type": "markdown",
   "metadata": {},
   "source": [
    "# Infomap"
   ]
  },
  {
   "cell_type": "code",
   "execution_count": 41,
   "metadata": {},
   "outputs": [
    {
     "name": "stdout",
     "output_type": "stream",
     "text": [
      "Tamanio de comunidades:\n",
      "-----------------------\n",
      "100563\n",
      "475\n",
      "383\n",
      "319\n",
      "239\n",
      "223\n",
      "192\n",
      "187\n",
      "163\n",
      "150\n"
     ]
    }
   ],
   "source": [
    "communities = []\n",
    "for com in com_im:\n",
    "    communities.append(com)\n",
    "communities = sorted(communities, reverse=True, key=len)\n",
    "\n",
    "print('Tamanio de comunidades:')\n",
    "print('-----------------------')\n",
    "for com in communities[:10]:\n",
    "    print(len(com))"
   ]
  },
  {
   "cell_type": "code",
   "execution_count": 45,
   "metadata": {},
   "outputs": [],
   "source": [
    "G_ig_com0 = G_ig.subgraph(communities[0])"
   ]
  },
  {
   "cell_type": "code",
   "execution_count": 52,
   "metadata": {},
   "outputs": [
    {
     "name": "stdout",
     "output_type": "stream",
     "text": [
      "Tamanio de comunidades:\n",
      "-----------------------\n",
      "99502\n",
      "5\n",
      "5\n",
      "4\n",
      "4\n",
      "3\n",
      "3\n",
      "3\n",
      "3\n",
      "3\n"
     ]
    }
   ],
   "source": [
    "com_im_com0 = G_ig_com0.community_infomap()\n",
    "\n",
    "communities_com0 = []\n",
    "for com in com_im_com0:\n",
    "    communities_com0.append(com)\n",
    "communities_com0 = sorted(communities_com0, reverse=True, key=len)\n",
    "\n",
    "print('Tamanio de comunidades:')\n",
    "print('-----------------------')\n",
    "for com in communities_com0[:10]:\n",
    "    print(len(com))"
   ]
  },
  {
   "cell_type": "code",
   "execution_count": 53,
   "metadata": {},
   "outputs": [
    {
     "name": "stdout",
     "output_type": "stream",
     "text": [
      "Tamanio de comunidades:\n",
      "-----------------------\n",
      "64280\n",
      "475\n",
      "192\n",
      "184\n",
      "170\n",
      "162\n",
      "121\n",
      "120\n",
      "75\n",
      "70\n"
     ]
    }
   ],
   "source": [
    "G_ig_com0_com0 = G_ig.subgraph(communities_com0[0])\n",
    "com_im_com0_com0 = G_ig_com0_com0.community_infomap()\n",
    "\n",
    "communities_com0_com0 = []\n",
    "for com in com_im_com0_com0:\n",
    "    communities_com0_com0.append(com)\n",
    "communities_com0_com0 = sorted(communities_com0_com0, reverse=True, key=len)\n",
    "\n",
    "print('Tamanio de comunidades:')\n",
    "print('-----------------------')\n",
    "for com in communities_com0_com0[:10]:\n",
    "    print(len(com))"
   ]
  },
  {
   "cell_type": "code",
   "execution_count": 36,
   "metadata": {},
   "outputs": [],
   "source": [
    "nodes_com0 = communities[0]\n",
    "G_com0 = nx.subgraph(G, nodes_com0)"
   ]
  },
  {
   "cell_type": "markdown",
   "metadata": {},
   "source": [
    "### Código de Eitu"
   ]
  },
  {
   "cell_type": "code",
   "execution_count": 8,
   "metadata": {},
   "outputs": [
    {
     "ename": "TypeError",
     "evalue": "'Graph' object is not iterable",
     "output_type": "error",
     "traceback": [
      "\u001b[0;31m---------------------------------------------------------------------------\u001b[0m",
      "\u001b[0;31mTypeError\u001b[0m                                 Traceback (most recent call last)",
      "\u001b[1;32m/Users/eitu/Documents/Facu/Redes/CoNet/Tp Final/analysis/comunidades/detection.ipynb Cell 7\u001b[0m in \u001b[0;36m<cell line: 2>\u001b[0;34m()\u001b[0m\n\u001b[1;32m      <a href='vscode-notebook-cell:/Users/eitu/Documents/Facu/Redes/CoNet/Tp%20Final/analysis/comunidades/detection.ipynb#ch0000006?line=0'>1</a>\u001b[0m clusters \u001b[39m=\u001b[39m com_im\u001b[39m.\u001b[39mcluster_graph()\n\u001b[0;32m----> <a href='vscode-notebook-cell:/Users/eitu/Documents/Facu/Redes/CoNet/Tp%20Final/analysis/comunidades/detection.ipynb#ch0000006?line=1'>2</a>\u001b[0m communities \u001b[39m=\u001b[39m clusters_to_list(clusters, G_ig)\n\u001b[1;32m      <a href='vscode-notebook-cell:/Users/eitu/Documents/Facu/Redes/CoNet/Tp%20Final/analysis/comunidades/detection.ipynb#ch0000006?line=2'>3</a>\u001b[0m \u001b[39mfor\u001b[39;00m i \u001b[39min\u001b[39;00m \u001b[39mrange\u001b[39m(\u001b[39m15\u001b[39m):\n\u001b[1;32m      <a href='vscode-notebook-cell:/Users/eitu/Documents/Facu/Redes/CoNet/Tp%20Final/analysis/comunidades/detection.ipynb#ch0000006?line=3'>4</a>\u001b[0m     \u001b[39mprint\u001b[39m(\u001b[39mlen\u001b[39m(communities[i]))\n",
      "\u001b[1;32m/Users/eitu/Documents/Facu/Redes/CoNet/Tp Final/analysis/comunidades/detection.ipynb Cell 7\u001b[0m in \u001b[0;36mclusters_to_list\u001b[0;34m(clusters, G)\u001b[0m\n\u001b[1;32m      <a href='vscode-notebook-cell:/Users/eitu/Documents/Facu/Redes/CoNet/Tp%20Final/analysis/comunidades/detection.ipynb#ch0000006?line=5'>6</a>\u001b[0m dic \u001b[39m=\u001b[39m {}\n\u001b[1;32m      <a href='vscode-notebook-cell:/Users/eitu/Documents/Facu/Redes/CoNet/Tp%20Final/analysis/comunidades/detection.ipynb#ch0000006?line=6'>7</a>\u001b[0m clusters_list \u001b[39m=\u001b[39m []\n\u001b[0;32m----> <a href='vscode-notebook-cell:/Users/eitu/Documents/Facu/Redes/CoNet/Tp%20Final/analysis/comunidades/detection.ipynb#ch0000006?line=7'>8</a>\u001b[0m \u001b[39mfor\u001b[39;00m i, cluster \u001b[39min\u001b[39;00m \u001b[39menumerate\u001b[39m(\u001b[39msorted\u001b[39m(\u001b[39mlist\u001b[39;49m(clusters), key \u001b[39m=\u001b[39m \u001b[39mlen\u001b[39m, reverse \u001b[39m=\u001b[39m \u001b[39mTrue\u001b[39;00m)):\n\u001b[1;32m      <a href='vscode-notebook-cell:/Users/eitu/Documents/Facu/Redes/CoNet/Tp%20Final/analysis/comunidades/detection.ipynb#ch0000006?line=8'>9</a>\u001b[0m     nodes_in_cluster \u001b[39m=\u001b[39m []\n\u001b[1;32m     <a href='vscode-notebook-cell:/Users/eitu/Documents/Facu/Redes/CoNet/Tp%20Final/analysis/comunidades/detection.ipynb#ch0000006?line=9'>10</a>\u001b[0m     \u001b[39mfor\u001b[39;00m node \u001b[39min\u001b[39;00m cluster:\n",
      "\u001b[0;31mTypeError\u001b[0m: 'Graph' object is not iterable"
     ]
    }
   ],
   "source": [
    "clusters = com_fg.as_clustering()\n",
    "communities = clusters_to_list(clusters, G_ig)\n",
    "for i in range(15):\n",
    "    print(len(communities[i]))\n",
    "nodes_to_plot = communities[10]\n",
    "G_com = G.subgraph(nodes_to_plot)\n",
    "nx.draw(G_com, labels={i: str(i) for i in range(len(list(G_com.nodes())))}, **CUSTOM_FORMAT)\n",
    "fig, axs = plt.subplots(2, 2)\n",
    "axs = axs.flatten()\n",
    "for i, com_ix in enumerate(range(8, 12)):\n",
    "    nodes_to_plot = communities[com_ix]\n",
    "    G_com = G.subgraph(nodes_to_plot)\n",
    "    nx.draw_kamada_kawai(G_com, ax=axs[i], **CUSTOM_FORMAT)"
   ]
  }
 ],
 "metadata": {
  "kernelspec": {
   "display_name": "Python 3.9.12 ('base')",
   "language": "python",
   "name": "python3"
  },
  "language_info": {
   "codemirror_mode": {
    "name": "ipython",
    "version": 3
   },
   "file_extension": ".py",
   "mimetype": "text/x-python",
   "name": "python",
   "nbconvert_exporter": "python",
   "pygments_lexer": "ipython3",
   "version": "3.9.12"
  },
  "orig_nbformat": 4,
  "vscode": {
   "interpreter": {
    "hash": "7e81b23ed92c8fb15dbce9983861fd8d857bf6d09def40e893b7999baeecebb1"
   }
  }
 },
 "nbformat": 4,
 "nbformat_minor": 2
}
