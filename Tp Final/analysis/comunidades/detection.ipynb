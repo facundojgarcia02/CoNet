{
 "cells": [
  {
   "cell_type": "code",
   "execution_count": 1,
   "metadata": {},
   "outputs": [],
   "source": [
    "import pandas as pd\n",
    "import networkx as nx\n",
    "import igraph as ig\n",
    "import numpy as np\n",
    "import matplotlib.pyplot as plt\n",
    "\n",
    "import pickle\n",
    "\n",
    "from community import community_louvain as louvain # pip install python-louvain\n",
    "\n",
    "\n",
    "CUSTOM_FORMAT = {\"font_size\": 8,\n",
    "                \"node_size\": 80, \"node_color\": \"#ff0000\", \"edgecolors\": \"#911a07\",\n",
    "                \"width\": 0.4, \"edge_color\": \"black\"}"
   ]
  },
  {
   "cell_type": "code",
   "execution_count": 2,
   "metadata": {},
   "outputs": [],
   "source": [
    "with open(\"../../state_files/PyPi Dataframe V4.pickle\", \"rb\") as f:\n",
    "    df = pickle.load(f)\n",
    "\n",
    "G = nx.read_gexf('../../state_files/PyPi Network V4.gexf')\n",
    "G_ig = ig.Graph.TupleList(G.edges(), directed=True) # Mejor manera que la que teníamos. Conserva nombres."
   ]
  },
  {
   "cell_type": "markdown",
   "metadata": {},
   "source": [
    "# Comunidades"
   ]
  },
  {
   "cell_type": "code",
   "execution_count": 3,
   "metadata": {},
   "outputs": [],
   "source": [
    "def clusters_to_list(clusters, G) -> dict:\n",
    "    \"\"\"\n",
    "    Arma un diccionario con los nombres de los nodos\n",
    "    como keys y el id del cluster como valor.\n",
    "    \"\"\"\n",
    "    dic = {}\n",
    "    clusters_list = []\n",
    "    for i, cluster in enumerate(sorted(list(clusters), key = len, reverse = True)):\n",
    "        nodes_in_cluster = []\n",
    "        for node in cluster:\n",
    "            nodes_in_cluster.append(G.vs[node]['_nx_name'])\n",
    "        clusters_list.append(nodes_in_cluster)\n",
    "    return clusters_list"
   ]
  },
  {
   "cell_type": "code",
   "execution_count": 3,
   "metadata": {},
   "outputs": [],
   "source": [
    "# Louvain no se puede hacer porque no funciona para redes dirigidas.\n",
    "# Fast Greedy tampoco se puede hacer en redes dirigidas.\n",
    "\n",
    "infomap = True\n",
    "edge_betweenes = False\n",
    "\n",
    "# Infomap.\n",
    "if infomap:\n",
    "    try:\n",
    "        with open(\"com_im.pickle\", \"rb\") as f:\n",
    "            com_im = pickle.load(f)\n",
    "\n",
    "    except FileNotFoundError:\n",
    "        com_im = G_ig.community_infomap()\n",
    "        with open(\"com_im.pickle\", \"wb\") as f:\n",
    "            pickle.dump(com_im, f)\n",
    "        print(\"Infomap done.\")\n",
    "\n",
    "# Edge Betweeness\n",
    "if edge_betweenes:\n",
    "    try:\n",
    "        with open(\"com_bt.pickle\", \"rb\") as f:\n",
    "            com_bt = pickle.load(f)\n",
    "    except FileNotFoundError:\n",
    "        com_bt = G_ig.community_edge_betweenness(clusters = None, directed = True, weights = None)\n",
    "        with open(\"com_bt.pickle\", \"wb\") as f:\n",
    "            pickle.dump(com_bt, f)\n",
    "        print(\"Edge Betweeness done.\")"
   ]
  },
  {
   "cell_type": "markdown",
   "metadata": {},
   "source": [
    "### Código de Eitu"
   ]
  },
  {
   "cell_type": "code",
   "execution_count": null,
   "metadata": {},
   "outputs": [],
   "source": [
    "clusters = com_fg.as_clustering()\n",
    "communities = clusters_to_list(clusters, G_ig)\n",
    "for i in range(15):\n",
    "    print(len(communities[i]))\n",
    "nodes_to_plot = communities[10]\n",
    "G_com = G.subgraph(nodes_to_plot)\n",
    "nx.draw(G_com, labels={i: str(i) for i in range(len(list(G_com.nodes())))}, **CUSTOM_FORMAT)\n",
    "fig, axs = plt.subplots(2, 2)\n",
    "axs = axs.flatten()\n",
    "for i, com_ix in enumerate(range(8, 12)):\n",
    "    nodes_to_plot = communities[com_ix]\n",
    "    G_com = G.subgraph(nodes_to_plot)\n",
    "    nx.draw_kamada_kawai(G_com, ax=axs[i], **CUSTOM_FORMAT)"
   ]
  }
 ],
 "metadata": {
  "kernelspec": {
   "display_name": "Python 3.10.8 64-bit",
   "language": "python",
   "name": "python3"
  },
  "language_info": {
   "codemirror_mode": {
    "name": "ipython",
    "version": 3
   },
   "file_extension": ".py",
   "mimetype": "text/x-python",
   "name": "python",
   "nbconvert_exporter": "python",
   "pygments_lexer": "ipython3",
   "version": "3.10.8"
  },
  "orig_nbformat": 4,
  "vscode": {
   "interpreter": {
    "hash": "a42cd95ca9a57c6387dbbfdd995a278478871c13a93fa5b980ac93bb6d23c0e2"
   }
  }
 },
 "nbformat": 4,
 "nbformat_minor": 2
}
