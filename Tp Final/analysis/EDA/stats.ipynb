{
 "cells": [
  {
   "cell_type": "code",
   "execution_count": 49,
   "metadata": {},
   "outputs": [],
   "source": [
    "import networkx as nx\n",
    "import matplotlib.pyplot as plt\n",
    "import numpy as np\n",
    "import pandas as pd\n",
    "\n",
    "from tqdm import tqdm\n",
    "\n",
    "import pickle\n",
    "import json"
   ]
  },
  {
   "cell_type": "code",
   "execution_count": 4,
   "metadata": {},
   "outputs": [],
   "source": [
    "# Red\n",
    "G = nx.read_gexf(\"../../state_files/PyPi Network V4.gexf\")\n",
    "\n",
    "# DataFrame con info de cada nodo.\n",
    "with open(\"../../state_files/PyPi Dataframe V4.pickle\", \"rb\") as f:\n",
    "    df = pickle.load(f)\n",
    "\n",
    "# Alcance de cada nodo ordenado.\n",
    "reach_by_node = pd.read_csv(\"../../state_files/Reach by Node.csv\")"
   ]
  },
  {
   "cell_type": "markdown",
   "metadata": {},
   "source": [
    "## Características de la red"
   ]
  },
  {
   "cell_type": "code",
   "execution_count": 58,
   "metadata": {},
   "outputs": [
    {
     "data": {
      "text/plain": [
       "{'Numero de nodos': 185279.0,\n",
       " 'Numero de enlaces': 879912.0,\n",
       " 'Es dirigida?': 1.0,\n",
       " 'Grado medio in': 4.7491,\n",
       " 'Grado mínimo in': 0.0,\n",
       " 'Grado máximo in': 453.0,\n",
       " 'Grado medio out': 4.7491,\n",
       " 'Grado mínimo out': 0.0,\n",
       " 'Grado máximo out': 33247.0,\n",
       " 'Densidad': 0.0001,\n",
       " 'Coeficiente de Clustering medio': 0.0912,\n",
       " 'Coeficiente de Clustering global': 0.0001,\n",
       " 'Diametro': 32.0}"
      ]
     },
     "execution_count": 58,
     "metadata": {},
     "output_type": "execute_result"
    }
   ],
   "source": [
    "try:\n",
    "    with open(\"Attributes.json\", \"r\") as f:\n",
    "        attr = json.load(f)\n",
    "    \n",
    "except FileNotFoundError:\n",
    "    attr = {}\n",
    "    # Parametros generales.\n",
    "    attr['Numero de nodos'] = len(G.nodes)\n",
    "    attr['Numero de enlaces'] = len(G.edges)\n",
    "    attr['Es dirigida?'] = True\n",
    "\n",
    "    # Grado In\n",
    "    in_degrees = list(dict(G.in_degree).values())\n",
    "    attr['Grado medio in'] = round(np.mean(in_degrees), 4)\n",
    "    attr['Grado mínimo in'] = np.min(in_degrees)\n",
    "    attr['Grado máximo in'] = np.max(in_degrees)\n",
    "\n",
    "    # Grado Out\n",
    "    out_degrees = list(dict(G.out_degree).values())\n",
    "    attr['Grado medio out'] = round(np.mean(out_degrees), 4)\n",
    "    attr['Grado mínimo out'] = np.min(out_degrees)\n",
    "    attr['Grado máximo out'] = np.max(out_degrees)\n",
    "\n",
    "    # Parametros específicos.\n",
    "    attr['Densidad'] = round(2*attr['Numero de enlaces']/(attr['Numero de nodos']*(attr['Numero de nodos']-1)), 4)\n",
    "    attr['Coeficiente de Clustering medio'] = round(nx.average_clustering(G, count_zeros=True), 4)\n",
    "    attr['Coeficiente de Clustering global'] = round(nx.transitivity(G), 4)\n",
    "    attr[\"Diametro\"] = max([max(j.values()) for (i,j) in tqdm(nx.shortest_path_length(G))])\n",
    "\n",
    "    attr = {k: float(v) for k, v in attr.items()}\n",
    "\n",
    "    with open(\"Attributes.json\", \"w\") as f:\n",
    "        json.dump(attr, f) \n",
    "\n",
    "attr"
   ]
  },
  {
   "cell_type": "markdown",
   "metadata": {},
   "source": [
    "## Homofilia"
   ]
  },
  {
   "cell_type": "code",
   "execution_count": null,
   "metadata": {},
   "outputs": [],
   "source": []
  }
 ],
 "metadata": {
  "kernelspec": {
   "display_name": "Python 3.10.8 64-bit",
   "language": "python",
   "name": "python3"
  },
  "language_info": {
   "codemirror_mode": {
    "name": "ipython",
    "version": 3
   },
   "file_extension": ".py",
   "mimetype": "text/x-python",
   "name": "python",
   "nbconvert_exporter": "python",
   "pygments_lexer": "ipython3",
   "version": "3.10.8"
  },
  "orig_nbformat": 4,
  "vscode": {
   "interpreter": {
    "hash": "a42cd95ca9a57c6387dbbfdd995a278478871c13a93fa5b980ac93bb6d23c0e2"
   }
  }
 },
 "nbformat": 4,
 "nbformat_minor": 2
}
