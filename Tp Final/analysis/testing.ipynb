{
 "cells": [
  {
   "cell_type": "code",
   "execution_count": 2,
   "metadata": {},
   "outputs": [],
   "source": [
    "import numpy as np\n",
    "import matplotlib.pyplot as plt\n",
    "import networkx as nx\n",
    "import pandas as pd\n",
    "\n",
    "from matplotlib import rcParams\n",
    "%matplotlib inline\n",
    "%config InlineBackend.figure_format = 'retina'\n",
    "rcParams['font.family'] = 'serif'\n",
    "rcParams['mathtext.fontset'] = 'cm'\n",
    "rcParams['figure.dpi'] = 100\n",
    "rcParams['legend.fontsize'] = 10\n",
    "rcParams['axes.labelsize'] = 'large'"
   ]
  },
  {
   "cell_type": "code",
   "execution_count": 120,
   "metadata": {},
   "outputs": [
    {
     "name": "stderr",
     "output_type": "stream",
     "text": [
      "/tmp/ipykernel_7112/476097011.py:6: DeprecationWarning: \n",
      "\n",
      "The scipy.sparse array containers will be used instead of matrices\n",
      "in Networkx 3.0. Use `to_scipy_sparse_array` instead.\n",
      "  A = nx.to_scipy_sparse_matrix(g).T  # Matriz de Adyacencia\n"
     ]
    }
   ],
   "source": [
    "g = nx.DiGraph()\n",
    "g.add_nodes_from([1, 2, 3, 4, 5, 6])\n",
    "g.add_edges_from([(1, 2), (1, 3), (1, 6),\n",
    "                  (2, 3), (2, 4), (2, 5),\n",
    "                  (3, 6)])\n",
    "A = nx.to_scipy_sparse_matrix(g).T  # Matriz de Adyacencia\n",
    "One = np.ones(6)\n",
    "k_out = One.T@A  # Vector Grado Out\n",
    "k_in = A@One  # Vector Grado In\n",
    "D = np.diag(k_in)\n",
    "L = D - A  # Laplaciano"
   ]
  },
  {
   "cell_type": "code",
   "execution_count": 127,
   "metadata": {},
   "outputs": [
    {
     "name": "stdout",
     "output_type": "stream",
     "text": [
      "[[5 4 1 0 0 0]]\n",
      "[[5 4 1 0 0 0]]\n"
     ]
    }
   ],
   "source": [
    "Ac = A.copy()\n",
    "for j in range(2, 4):\n",
    "    Ac += A**j\n",
    "    print(np.sum(Ac.astype(bool), axis=0))\n"
   ]
  },
  {
   "cell_type": "code",
   "execution_count": 130,
   "metadata": {},
   "outputs": [
    {
     "name": "stderr",
     "output_type": "stream",
     "text": [
      "/home/agus/mambaforge/envs/facu39/lib/python3.9/site-packages/IPython/core/interactiveshell.py:3397: SparseEfficiencyWarning: Comparing sparse matrices using == is inefficient, try using != instead.\n",
      "  exec(code_obj, self.user_global_ns, self.user_ns)\n"
     ]
    },
    {
     "data": {
      "text/plain": [
       "<6x6 sparse matrix of type '<class 'numpy.bool_'>'\n",
       "\twith 36 stored elements in Compressed Sparse Column format>"
      ]
     },
     "execution_count": 130,
     "metadata": {},
     "output_type": "execute_result"
    }
   ],
   "source": [
    "(A@A == A**2)"
   ]
  }
 ],
 "metadata": {
  "kernelspec": {
   "display_name": "Python 3.9.12 ('facu39')",
   "language": "python",
   "name": "python3"
  },
  "language_info": {
   "codemirror_mode": {
    "name": "ipython",
    "version": 3
   },
   "file_extension": ".py",
   "mimetype": "text/x-python",
   "name": "python",
   "nbconvert_exporter": "python",
   "pygments_lexer": "ipython3",
   "version": "3.9.12"
  },
  "orig_nbformat": 4,
  "vscode": {
   "interpreter": {
    "hash": "be15c7ac4da6fd5d8f9a71357bdbc857b1ae124919dc2c286feb746f5263f095"
   }
  }
 },
 "nbformat": 4,
 "nbformat_minor": 2
}
