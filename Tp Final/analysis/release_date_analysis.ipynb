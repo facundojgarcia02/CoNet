{
 "cells": [
  {
   "cell_type": "code",
   "execution_count": 1,
   "metadata": {},
   "outputs": [],
   "source": [
    "import pandas as pd\n",
    "import pickle\n",
    "import networkx as nx\n",
    "from Propagation.utils import ReachFinder\n",
    "\n",
    "with open(\"../state_files/Filtered Releases.pickle\", \"rb\") as f:\n",
    "    releases_dict = pickle.load(f)\n",
    "\n",
    "G = nx.read_gexf(\"../state_files/PyPi Network V4.gexf\")\n",
    "\n",
    "known_dates_dict = {lib: {ver: date for ver, date in version_dict.items()\n",
    "                          if date is not None}\n",
    "                    for lib, version_dict in releases_dict.items()}"
   ]
  },
  {
   "cell_type": "code",
   "execution_count": 10,
   "metadata": {},
   "outputs": [],
   "source": [
    "data_dict = dict()\n",
    "data_dict[\"first date\"] = {lib: min(version_dict.values()) for lib, version_dict in known_dates_dict.items()\n",
    "                           if version_dict}  # False sii version_dict está vacío.\n",
    "data_dict[\"last date\"] = {lib: max(version_dict.values()) for lib, version_dict in known_dates_dict.items()\n",
    "                           if version_dict}  # False sii version_dict está vacío.\n",
    "data_dict[\"updates\"] = {lib: len(version_dict.values()) for lib, version_dict in releases_dict.items()}\n",
    "data_df = pd.DataFrame.from_dict(data=data_dict)"
   ]
  },
  {
   "cell_type": "code",
   "execution_count": 2,
   "metadata": {},
   "outputs": [
    {
     "name": "stdout",
     "output_type": "stream",
     "text": [
      "Function called 162575 times."
     ]
    },
    {
     "ename": "",
     "evalue": "",
     "output_type": "error",
     "traceback": [
      "\u001b[1;31mThe Kernel crashed while executing code in the the current cell or a previous cell. Please review the code in the cell(s) to identify a possible cause of the failure. Click <a href='https://aka.ms/vscodeJupyterKernelCrash'>here</a> for more info. View Jupyter <a href='command:jupyter.viewOutput'>log</a> for further details."
     ]
    },
    {
     "ename": "",
     "evalue": "",
     "output_type": "error",
     "traceback": [
      "\u001b[1;31mCanceled future for execute_request message before replies were done"
     ]
    }
   ],
   "source": [
    "finder = ReachFinder(G)\n",
    "reach = finder.find_all_nodes()"
   ]
  },
  {
   "cell_type": "code",
   "execution_count": 14,
   "metadata": {},
   "outputs": [
    {
     "data": {
      "text/html": [
       "<div>\n",
       "<style scoped>\n",
       "    .dataframe tbody tr th:only-of-type {\n",
       "        vertical-align: middle;\n",
       "    }\n",
       "\n",
       "    .dataframe tbody tr th {\n",
       "        vertical-align: top;\n",
       "    }\n",
       "\n",
       "    .dataframe thead th {\n",
       "        text-align: right;\n",
       "    }\n",
       "</style>\n",
       "<table border=\"1\" class=\"dataframe\">\n",
       "  <thead>\n",
       "    <tr style=\"text-align: right;\">\n",
       "      <th></th>\n",
       "      <th>first date</th>\n",
       "      <th>last date</th>\n",
       "      <th>updates</th>\n",
       "    </tr>\n",
       "  </thead>\n",
       "  <tbody>\n",
       "    <tr>\n",
       "      <th>ccxt</th>\n",
       "      <td>2017-07-12 13:27:57</td>\n",
       "      <td>2022-10-27 17:24:14</td>\n",
       "      <td>4168</td>\n",
       "    </tr>\n",
       "    <tr>\n",
       "      <th>spanishconjugator</th>\n",
       "      <td>2020-08-14 14:58:17</td>\n",
       "      <td>2022-10-27 20:31:25</td>\n",
       "      <td>3318</td>\n",
       "    </tr>\n",
       "    <tr>\n",
       "      <th>pulumi</th>\n",
       "      <td>2018-06-12 15:29:33</td>\n",
       "      <td>2022-10-26 14:29:38</td>\n",
       "      <td>3316</td>\n",
       "    </tr>\n",
       "    <tr>\n",
       "      <th>kcli</th>\n",
       "      <td>2019-12-15 12:59:59</td>\n",
       "      <td>2022-10-27 12:33:46</td>\n",
       "      <td>2402</td>\n",
       "    </tr>\n",
       "    <tr>\n",
       "      <th>tfa-nightly</th>\n",
       "      <td>2019-04-22 23:44:08</td>\n",
       "      <td>2022-10-11 21:16:03</td>\n",
       "      <td>2320</td>\n",
       "    </tr>\n",
       "    <tr>\n",
       "      <th>...</th>\n",
       "      <td>...</td>\n",
       "      <td>...</td>\n",
       "      <td>...</td>\n",
       "    </tr>\n",
       "    <tr>\n",
       "      <th>fred-cli</th>\n",
       "      <td>2020-08-27 20:37:02</td>\n",
       "      <td>2020-08-27 20:37:02</td>\n",
       "      <td>1</td>\n",
       "    </tr>\n",
       "    <tr>\n",
       "      <th>frechetdist</th>\n",
       "      <td>2019-08-12 12:23:40</td>\n",
       "      <td>2019-08-12 12:23:40</td>\n",
       "      <td>1</td>\n",
       "    </tr>\n",
       "    <tr>\n",
       "      <th>freaddb</th>\n",
       "      <td>2022-06-19 03:39:26</td>\n",
       "      <td>2022-06-19 03:39:26</td>\n",
       "      <td>1</td>\n",
       "    </tr>\n",
       "    <tr>\n",
       "      <th>frc</th>\n",
       "      <td>2021-11-18 16:07:50</td>\n",
       "      <td>2021-11-18 16:07:50</td>\n",
       "      <td>1</td>\n",
       "    </tr>\n",
       "    <tr>\n",
       "      <th>youtube-upload</th>\n",
       "      <td>NaT</td>\n",
       "      <td>NaT</td>\n",
       "      <td>1</td>\n",
       "    </tr>\n",
       "  </tbody>\n",
       "</table>\n",
       "<p>165150 rows × 3 columns</p>\n",
       "</div>"
      ],
      "text/plain": [
       "                           first date           last date  updates\n",
       "ccxt              2017-07-12 13:27:57 2022-10-27 17:24:14     4168\n",
       "spanishconjugator 2020-08-14 14:58:17 2022-10-27 20:31:25     3318\n",
       "pulumi            2018-06-12 15:29:33 2022-10-26 14:29:38     3316\n",
       "kcli              2019-12-15 12:59:59 2022-10-27 12:33:46     2402\n",
       "tfa-nightly       2019-04-22 23:44:08 2022-10-11 21:16:03     2320\n",
       "...                               ...                 ...      ...\n",
       "fred-cli          2020-08-27 20:37:02 2020-08-27 20:37:02        1\n",
       "frechetdist       2019-08-12 12:23:40 2019-08-12 12:23:40        1\n",
       "freaddb           2022-06-19 03:39:26 2022-06-19 03:39:26        1\n",
       "frc               2021-11-18 16:07:50 2021-11-18 16:07:50        1\n",
       "youtube-upload                    NaT                 NaT        1\n",
       "\n",
       "[165150 rows x 3 columns]"
      ]
     },
     "execution_count": 14,
     "metadata": {},
     "output_type": "execute_result"
    }
   ],
   "source": [
    "data_df.sort_values(\"updates\", ascending=False)"
   ]
  }
 ],
 "metadata": {
  "kernelspec": {
   "display_name": "Python 3.9.12 ('facu39')",
   "language": "python",
   "name": "python3"
  },
  "language_info": {
   "codemirror_mode": {
    "name": "ipython",
    "version": 3
   },
   "file_extension": ".py",
   "mimetype": "text/x-python",
   "name": "python",
   "nbconvert_exporter": "python",
   "pygments_lexer": "ipython3",
   "version": "3.9.12"
  },
  "orig_nbformat": 4,
  "vscode": {
   "interpreter": {
    "hash": "be15c7ac4da6fd5d8f9a71357bdbc857b1ae124919dc2c286feb746f5263f095"
   }
  }
 },
 "nbformat": 4,
 "nbformat_minor": 2
}
