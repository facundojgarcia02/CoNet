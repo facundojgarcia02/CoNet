{
 "cells": [
  {
   "cell_type": "code",
   "execution_count": 1,
   "metadata": {},
   "outputs": [],
   "source": [
    "import numpy as np\n",
    "import matplotlib.pyplot as plt\n",
    "import networkx as nx\n",
    "\n",
    "import pickle\n",
    "\n",
    "from random import sample, seed\n",
    "from tqdm import tqdm\n",
    "from utils.propagators.directed import PropagateDirected\n",
    "from utils.metrics import accuracy, balanced_accuracy\n",
    "\n",
    "seed(42)"
   ]
  },
  {
   "cell_type": "code",
   "execution_count": 5,
   "metadata": {},
   "outputs": [],
   "source": [
    "# Load Graph.\n",
    "G = nx.read_gexf(\"../../state_files/PyPi Network V4.gexf\")\n",
    "# Keep only giant component.\n",
    "gc_nodes = sorted(nx.connected_components(G.to_undirected()), key = lambda x: len(x), reverse=True)[0]\n",
    "not_gc_nodes = set(G.nodes()) - gc_nodes\n",
    "G.remove_nodes_from(not_gc_nodes)\n",
    "\n",
    "# Load labels.\n",
    "with open(\"../../state_files/PyPi Dataframe V4.pickle\", \"rb\") as f:\n",
    "    df = pickle.load(f)\n",
    "labels = df[\"Topic\"].dropna().to_dict()\n",
    "# Remove 'Other' topic.\n",
    "for n, l in labels.items():\n",
    "    if 'Other/Nonlisted Topic' in l:\n",
    "        l.remove('Other/Nonlisted Topic')\n",
    "# Filter nodes with no topics.\n",
    "labels = dict(filter(lambda x: len(x[1]) > 0, labels.items()))\n",
    "# Keep nodes from giant component.\n",
    "labels = dict(filter(lambda x: x[0] in gc_nodes, labels.items()))\n",
    "\n",
    "# Split train and test set.\n",
    "test_size = 0.1\n",
    "\n",
    "test_nodes = sample(list(labels.keys()), int(test_size*len(labels.keys())))\n",
    "train_nodes = list(filter(lambda x: x not in test_nodes, labels.keys()))\n",
    "\n",
    "train_labels = dict(filter(lambda x: x[0] in train_nodes, labels.items()))\n",
    "test_labels = dict(filter(lambda x: x[0] in test_nodes, labels.items()))"
   ]
  },
  {
   "cell_type": "code",
   "execution_count": 7,
   "metadata": {},
   "outputs": [
    {
     "name": "stdout",
     "output_type": "stream",
     "text": [
      "Loaded Proba.\n",
      "Accuracy: 47%\n",
      "Loaded Local.\n",
      "Accuracy: 57%\n",
      "Loaded Global.\n",
      "Accuracy: 34%\n"
     ]
    }
   ],
   "source": [
    "# Método Probabilístico.\n",
    "try:\n",
    "    with open(\"pl_proba.pickle\", \"rb\") as f:\n",
    "        pl_proba = pickle.load(f)\n",
    "        fl_proba = pl_proba.labels\n",
    "        print(\"Loaded Proba.\")\n",
    "except FileNotFoundError:\n",
    "    print(\"Calculating Proba.\")\n",
    "    pl_proba = PropagateDirected(G, train_labels, method = \"probability\")\n",
    "    fl_proba = pl_proba.propagate_all()\n",
    "    with open(\"pl_proba.pickle\", \"wb\") as f:\n",
    "        pickle.dump(pl_proba, f)\n",
    "\n",
    "acc_proba = accuracy(test_labels, fl_proba)\n",
    "bal_acc_proba, times_seen_proba = balanced_accuracy(test_labels, fl_proba)\n",
    "\n",
    "# Método de detección local.\n",
    "try:\n",
    "    with open(\"pl_local.pickle\", \"rb\") as f:\n",
    "        pl_local = pickle.load(f)\n",
    "        fl_local = pl_local.labels\n",
    "        print(\"Loaded Local.\")\n",
    "except FileNotFoundError:\n",
    "    print(\"Calculating Local.\")\n",
    "    pl_local = PropagateDirected(G, train_labels, method = \"local\")\n",
    "    fl_local = pl_local.propagate_all()\n",
    "    with open(\"pl_local.pickle\", \"wb\") as f:\n",
    "        pickle.dump(pl_local, f)\n",
    "    \n",
    "acc_local = accuracy(test_labels, fl_local)\n",
    "bal_acc_local, times_seen_local = balanced_accuracy(test_labels, fl_local)\n",
    "\n",
    "# Método ponderando contribuciones globales.\n",
    "try:\n",
    "    with open(\"pl_global.pickle\", \"rb\") as f:\n",
    "        pl_global = pickle.load(f)\n",
    "        fl_global = pl_global.labels\n",
    "        print(\"Loaded Global.\")\n",
    "except FileNotFoundError:\n",
    "    print(\"Calculating Global.\")\n",
    "    pl_global = PropagateDirected(G, train_labels, method = \"global\")\n",
    "    fl_global = pl_global.propagate_all()\n",
    "    with open(\"pl_global.pickle\", \"wb\") as f:\n",
    "        pickle.dump(pl_global, f)\n",
    "\n",
    "acc_global = accuracy(test_labels, fl_global)\n",
    "bal_acc_global, times_seen_global = balanced_accuracy(test_labels, fl_global)"
   ]
  },
  {
   "cell_type": "code",
   "execution_count": 9,
   "metadata": {},
   "outputs": [
    {
     "name": "stdout",
     "output_type": "stream",
     "text": [
      "Balanced Accuracy: Modelo de propagación aleatoria.\n",
      "13%\n",
      "Balanced Accuracy: Modelo de propagación con criterios locales.\n",
      "14%\n",
      "Balanced Accuracy: Modelo de propagación con criterios globales.\n",
      "25%\n",
      "Balanced Accuracy: Modelo de tirar un dado de 23 caras\n",
      "3%\n",
      "Balanced Accuracy: Modelo de etiquetar TODO con la etiqueta mas común\n",
      "2%\n"
     ]
    }
   ],
   "source": [
    "print(\"Balanced Accuracy: Modelo de propagación aleatoria.\")\n",
    "print(f\"{bal_acc_proba*100:.0f}%\")\n",
    "\n",
    "print(\"Balanced Accuracy: Modelo de propagación con criterios locales.\")\n",
    "print(f\"{bal_acc_local*100:.0f}%\")\n",
    "\n",
    "print(\"Balanced Accuracy: Modelo de propagación con criterios globales.\")\n",
    "print(f\"{bal_acc_global*100:.0f}%\")\n",
    "\n",
    "print(\"Balanced Accuracy: Modelo de tirar un dado de 23 caras\")\n",
    "label_collector = []\n",
    "for n, l in test_labels.items():\n",
    "    label_collector += l\n",
    "topics = set(label_collector)\n",
    "matches = {t: int(times_seen_local[t]/len(times_seen_local)) for t in topics}\n",
    "accuracy_per_topic = {t: matches[t]/times_seen_global[t] for t in topics}\n",
    "print(f\"{sum(accuracy_per_topic.values())/len(accuracy_per_topic.values())*100:.0f}%\")\n",
    "\n",
    "print(\"Balanced Accuracy: Modelo de etiquetar TODO con la etiqueta mas común\")\n",
    "print(f'{1 * (times_seen_local[\"Software Development\"]/sum(times_seen_local.values())) / len(times_seen_local)*100:.0f}%')"
   ]
  }
 ],
 "metadata": {
  "kernelspec": {
   "display_name": "Python 3 (ipykernel)",
   "language": "python",
   "name": "python3"
  },
  "language_info": {
   "codemirror_mode": {
    "name": "ipython",
    "version": 3
   },
   "file_extension": ".py",
   "mimetype": "text/x-python",
   "name": "python",
   "nbconvert_exporter": "python",
   "pygments_lexer": "ipython3",
   "version": "3.10.8"
  },
  "vscode": {
   "interpreter": {
    "hash": "a42cd95ca9a57c6387dbbfdd995a278478871c13a93fa5b980ac93bb6d23c0e2"
   }
  }
 },
 "nbformat": 4,
 "nbformat_minor": 2
}
