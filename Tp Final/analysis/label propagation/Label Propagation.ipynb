{
 "cells": [
  {
   "cell_type": "code",
   "execution_count": 1,
   "metadata": {},
   "outputs": [],
   "source": [
    "import numpy as np\n",
    "import matplotlib.pyplot as plt\n",
    "import networkx as nx\n",
    "\n",
    "import pickle\n",
    "\n",
    "from label_prop import PropagateLabels"
   ]
  },
  {
   "cell_type": "code",
   "execution_count": 2,
   "metadata": {},
   "outputs": [],
   "source": [
    "# Load Graph.\n",
    "G = nx.read_gexf(\"../../state_files/PyPi Network V4.gexf\")\n",
    "# Keep only giant component.\n",
    "gc_nodes = sorted(nx.connected_components(G.to_undirected()), key = lambda x: len(x), reverse=True)[0]\n",
    "not_gc_nodes = set(G.nodes()) - gc_nodes\n",
    "G.remove_nodes_from(not_gc_nodes)\n",
    "\n",
    "# Load labels.\n",
    "with open(\"../../state_files/PyPi Dataframe V4.pickle\", \"rb\") as f:\n",
    "    df = pickle.load(f)\n",
    "labels = df[\"Topic\"].dropna().to_dict()\n",
    "# Remove 'Other' topic.\n",
    "for n, l in labels.items():\n",
    "    if 'Other/Nonlisted Topic' in l:\n",
    "        l.remove('Other/Nonlisted Topic')\n",
    "# Filter nodes with no topics.\n",
    "labels = dict(filter(lambda x: len(x[1]) > 0, labels.items()))\n",
    "# Keep nodes from giant component.\n",
    "labels = dict(filter(lambda x: x[0] in gc_nodes, labels.items()))"
   ]
  },
  {
   "cell_type": "code",
   "execution_count": 3,
   "metadata": {},
   "outputs": [
    {
     "name": "stderr",
     "output_type": "stream",
     "text": [
      "100%|██████████| 60372/60372 [25:32<00:00, 39.40it/s]  \n",
      "100%|██████████| 93791/93791 [14:28<00:00, 108.03it/s] \n"
     ]
    },
    {
     "name": "stdout",
     "output_type": "stream",
     "text": [
      "154163 nodos etiquetados de 183495.\n"
     ]
    },
    {
     "name": "stderr",
     "output_type": "stream",
     "text": [
      "100%|██████████| 154163/154163 [10:14<00:00, 250.78it/s]  \n",
      "100%|██████████| 7787/7787 [02:40<00:00, 48.60it/s] \n"
     ]
    },
    {
     "name": "stdout",
     "output_type": "stream",
     "text": [
      "161950 nodos etiquetados de 183495.\n"
     ]
    },
    {
     "name": "stderr",
     "output_type": "stream",
     "text": [
      "100%|██████████| 161950/161950 [01:12<00:00, 2221.09it/s] \n",
      "100%|██████████| 1057/1057 [00:29<00:00, 36.06it/s]\n"
     ]
    },
    {
     "name": "stdout",
     "output_type": "stream",
     "text": [
      "163007 nodos etiquetados de 183495.\n"
     ]
    },
    {
     "name": "stderr",
     "output_type": "stream",
     "text": [
      "100%|██████████| 163007/163007 [00:06<00:00, 25787.52it/s]  \n",
      "100%|██████████| 157/157 [00:03<00:00, 48.34it/s]\n"
     ]
    },
    {
     "name": "stdout",
     "output_type": "stream",
     "text": [
      "163164 nodos etiquetados de 183495.\n"
     ]
    },
    {
     "name": "stderr",
     "output_type": "stream",
     "text": [
      "100%|██████████| 163164/163164 [00:01<00:00, 88480.60it/s]  \n",
      "100%|██████████| 32/32 [00:00<00:00, 32.12it/s]\n"
     ]
    },
    {
     "name": "stdout",
     "output_type": "stream",
     "text": [
      "163196 nodos etiquetados de 183495.\n"
     ]
    },
    {
     "name": "stderr",
     "output_type": "stream",
     "text": [
      "100%|██████████| 163196/163196 [00:00<00:00, 476683.47it/s] \n",
      "100%|██████████| 10/10 [00:00<00:00, 73.18it/s]\n"
     ]
    },
    {
     "name": "stdout",
     "output_type": "stream",
     "text": [
      "163206 nodos etiquetados de 183495.\n"
     ]
    },
    {
     "name": "stderr",
     "output_type": "stream",
     "text": [
      "100%|██████████| 163206/163206 [00:00<00:00, 929787.48it/s] \n",
      "100%|██████████| 2/2 [00:00<00:00, 77.13it/s]\n"
     ]
    },
    {
     "name": "stdout",
     "output_type": "stream",
     "text": [
      "163208 nodos etiquetados de 183495.\n"
     ]
    },
    {
     "name": "stderr",
     "output_type": "stream",
     "text": [
      "100%|██████████| 163208/163208 [00:00<00:00, 1258813.37it/s]\n",
      "100%|██████████| 1/1 [00:00<00:00, 52.69it/s]\n"
     ]
    },
    {
     "name": "stdout",
     "output_type": "stream",
     "text": [
      "163209 nodos etiquetados de 183495.\n"
     ]
    },
    {
     "name": "stderr",
     "output_type": "stream",
     "text": [
      "100%|██████████| 163209/163209 [00:00<00:00, 1460705.96it/s]\n",
      "0it [00:00, ?it/s]"
     ]
    },
    {
     "name": "stdout",
     "output_type": "stream",
     "text": [
      "163209 nodos etiquetados de 183495.\n",
      "No se encontraron nuevas etiquetas.\n"
     ]
    },
    {
     "name": "stderr",
     "output_type": "stream",
     "text": [
      "\n"
     ]
    }
   ],
   "source": [
    "pl = PropagateLabels(G, labels)\n",
    "final_labels = pl.propagate_all()"
   ]
  },
  {
   "cell_type": "code",
   "execution_count": 5,
   "metadata": {},
   "outputs": [
    {
     "data": {
      "text/plain": [
       "163209"
      ]
     },
     "execution_count": 5,
     "metadata": {},
     "output_type": "execute_result"
    }
   ],
   "source": [
    "len(final_labels)"
   ]
  },
  {
   "cell_type": "code",
   "execution_count": null,
   "metadata": {},
   "outputs": [],
   "source": []
  }
 ],
 "metadata": {
  "kernelspec": {
   "display_name": "Python 3.10.8 64-bit",
   "language": "python",
   "name": "python3"
  },
  "language_info": {
   "codemirror_mode": {
    "name": "ipython",
    "version": 3
   },
   "file_extension": ".py",
   "mimetype": "text/x-python",
   "name": "python",
   "nbconvert_exporter": "python",
   "pygments_lexer": "ipython3",
   "version": "3.10.8"
  },
  "orig_nbformat": 4,
  "vscode": {
   "interpreter": {
    "hash": "a42cd95ca9a57c6387dbbfdd995a278478871c13a93fa5b980ac93bb6d23c0e2"
   }
  }
 },
 "nbformat": 4,
 "nbformat_minor": 2
}
