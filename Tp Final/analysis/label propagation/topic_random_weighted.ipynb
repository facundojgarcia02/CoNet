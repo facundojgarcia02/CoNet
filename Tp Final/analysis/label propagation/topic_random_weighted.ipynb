{
  "cells": [
    {
      "cell_type": "markdown",
      "metadata": {
        "id": "pgHVBHWUK-88"
      },
      "source": [
        "# Study of the Asortativity in Topic"
      ]
    },
    {
      "cell_type": "code",
      "execution_count": 1,
      "metadata": {
        "id": "Z1D3DG0uK-9B"
      },
      "outputs": [],
      "source": [
        "import os\n",
        "# Verificación y ubicación (y descarga de archivos en colab)\n",
        "directory_path = os.getcwd()\n",
        "folder_name = os.path.basename(directory_path)\n",
        "if folder_name != 'label propagation':\n",
        "    try:\n",
        "        os.chdir(\"/content/CoNet/Tp Final/analysis/label propagation\")\n",
        "    except FileNotFoundError:\n",
        "        !git clone https://github.com/facundojgarcia02/CoNet.git\n",
        "        os.chdir(\"/content/CoNet/Tp Final/analysis/label propagation\")"
      ]
    },
    {
      "cell_type": "code",
      "execution_count": 12,
      "metadata": {
        "id": "mbuC7FqvK-9E"
      },
      "outputs": [],
      "source": [
        "import networkx as nx\n",
        "import numpy as np\n",
        "import matplotlib.pyplot as plt\n",
        "import pandas as pd\n",
        "import json\n",
        "import pickle5 as pickle\n",
        "from random import sample, seed\n",
        "from utils.metrics import accuracy, balanced_accuracy\n",
        "\n",
        "from matplotlib import rcParams\n",
        "%matplotlib inline\n",
        "%config InlineBackend.figure_format = 'retina'\n",
        "rcParams['font.family'] = 'serif'\n",
        "rcParams['mathtext.fontset'] = 'cm'\n",
        "rcParams['figure.dpi'] = 100\n",
        "rcParams['legend.fontsize'] = 10\n",
        "rcParams['axes.labelsize'] = 'large'\n",
        "\n",
        "seed(42)\n",
        "\n",
        "def convert_str_to_list(s):\n",
        "    try:\n",
        "        if np.isnan(s):\n",
        "            return None\n",
        "    except TypeError:\n",
        "        return list(set(s.replace(\"['\", \"\").replace(\"']\", \"\").split(\"', '\")))"
      ]
    },
    {
      "cell_type": "code",
      "execution_count": 3,
      "metadata": {
        "id": "lfFQsLTrK-9F"
      },
      "outputs": [],
      "source": [
        "# Load Graph.\n",
        "G = nx.read_gexf(\"../../state_files/PyPi Network V4.gexf\")\n",
        "# Keep only giant component.\n",
        "gc_nodes = sorted(nx.connected_components(G.to_undirected()), key = lambda x: len(x), reverse=True)[0]\n",
        "not_gc_nodes = set(G.nodes()) - gc_nodes\n",
        "G.remove_nodes_from(not_gc_nodes)"
      ]
    },
    {
      "cell_type": "code",
      "source": [
        "# # Load labels.\n",
        "# with open(\"../../state_files/PyPi Dataframe V4.pickle\", \"rb\") as f:\n",
        "#     df = pickle.load(f)\n",
        "# labels = df[\"Topic\"].dropna().to_dict()\n",
        "# # Remove 'Other' topic.\n",
        "# for n, l in labels.items():\n",
        "#     if 'Other/Nonlisted Topic' in l:\n",
        "#         l.remove('Other/Nonlisted Topic')\n",
        "# Load labels.\n",
        "topics_series = pd.read_csv(\"../../state_files/TopicsDataframe V4.tsv\", sep=\"\\t\", index_col=0,)[\"Topic\"]\n",
        "topics_series\n",
        "labels = topics_series.dropna().apply(convert_str_to_list).to_dict()\n",
        "# Remove 'Other' topic.\n",
        "for n, l in labels.items():\n",
        "    if 'Other/Nonlisted Topic' in l:\n",
        "        l.remove('Other/Nonlisted Topic')"
      ],
      "metadata": {
        "id": "W8X543TTrLF_"
      },
      "execution_count": 4,
      "outputs": []
    },
    {
      "cell_type": "code",
      "source": [
        "# Filter nodes with no topics.\n",
        "labels = dict(filter(lambda x: len(x[1]) > 0, labels.items()))\n",
        "# Keep nodes from giant component.\n",
        "labels = dict(filter(lambda x: x[0] in gc_nodes, labels.items()))"
      ],
      "metadata": {
        "id": "W-yepng9sByz"
      },
      "execution_count": 5,
      "outputs": []
    },
    {
      "cell_type": "code",
      "source": [
        "# Split train and test set.\n",
        "test_size = 0.1\n",
        "\n",
        "test_nodes = sample(list(labels.keys()), int(test_size*len(labels.keys())))\n",
        "train_nodes = list(filter(lambda x: x not in test_nodes, labels.keys()))\n",
        "\n",
        "train_labels = dict(filter(lambda x: x[0] in train_nodes, labels.items()))\n",
        "test_labels = dict(filter(lambda x: x[0] in test_nodes, labels.items()))"
      ],
      "metadata": {
        "id": "-3jzp1bbPxoC"
      },
      "execution_count": 6,
      "outputs": []
    },
    {
      "cell_type": "code",
      "source": [
        "label_dist = []\n",
        "for lib, topic_set in train_labels.items():\n",
        "    label_dist += list(topic_set)\n",
        "pred_list = sample(label_dist, len(test_labels))\n",
        "pred_labels = {lib: [pred] for lib, pred in zip(test_labels, pred_list)}\n",
        "# pred_labels"
      ],
      "metadata": {
        "id": "lo_EqFOptyT2"
      },
      "execution_count": 7,
      "outputs": []
    },
    {
      "cell_type": "code",
      "source": [
        "accuracy(test_labels, pred_labels)"
      ],
      "metadata": {
        "colab": {
          "base_uri": "https://localhost:8080/"
        },
        "id": "p3WWOEjEvSHl",
        "outputId": "b42a0362-25a4-4bed-c3f9-af92b5b10fe6"
      },
      "execution_count": 10,
      "outputs": [
        {
          "output_type": "stream",
          "name": "stdout",
          "text": [
            "Accuracy: 29%\n"
          ]
        },
        {
          "output_type": "execute_result",
          "data": {
            "text/plain": [
              "0.28606923968858705"
            ]
          },
          "metadata": {},
          "execution_count": 10
        }
      ]
    },
    {
      "cell_type": "code",
      "source": [
        "balanced_accuracy(test_labels, pred_labels)"
      ],
      "metadata": {
        "colab": {
          "base_uri": "https://localhost:8080/"
        },
        "id": "wONZqRLvyhwe",
        "outputId": "3f2537e9-859b-4445-a06a-3f3d652155d1"
      },
      "execution_count": 13,
      "outputs": [
        {
          "output_type": "execute_result",
          "data": {
            "text/plain": [
              "(0.0,\n",
              " {'Scientific/Engineering': 1639,\n",
              "  'Security': 167,\n",
              "  'Terminals': 55,\n",
              "  'Home Automation': 58,\n",
              "  'System': 503,\n",
              "  'Text Editors': 19,\n",
              "  'Printing': 9,\n",
              "  'Software Development': 3225,\n",
              "  'Communications': 150,\n",
              "  'Desktop Environment': 21,\n",
              "  'Internet': 841,\n",
              "  'Religion': 3,\n",
              "  'Multimedia': 202,\n",
              "  'Education': 100,\n",
              "  'Sociology': 7,\n",
              "  'Text Processing': 268,\n",
              "  'Games/Entertainment': 73,\n",
              "  'Documentation': 78,\n",
              "  'Utilities': 950,\n",
              "  'Artistic Software': 15,\n",
              "  'Adaptive Technologies': 3,\n",
              "  'Office/Business': 157,\n",
              "  'Database': 152})"
            ]
          },
          "metadata": {},
          "execution_count": 13
        }
      ]
    }
  ],
  "metadata": {
    "kernelspec": {
      "display_name": "Python 3.9.12 ('facu39')",
      "language": "python",
      "name": "python3"
    },
    "language_info": {
      "codemirror_mode": {
        "name": "ipython",
        "version": 3
      },
      "file_extension": ".py",
      "mimetype": "text/x-python",
      "name": "python",
      "nbconvert_exporter": "python",
      "pygments_lexer": "ipython3",
      "version": "3.9.12"
    },
    "orig_nbformat": 4,
    "vscode": {
      "interpreter": {
        "hash": "be15c7ac4da6fd5d8f9a71357bdbc857b1ae124919dc2c286feb746f5263f095"
      }
    },
    "colab": {
      "provenance": []
    },
    "gpuClass": "standard"
  },
  "nbformat": 4,
  "nbformat_minor": 0
}