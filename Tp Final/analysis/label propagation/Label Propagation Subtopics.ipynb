{
 "cells": [
  {
   "cell_type": "code",
   "execution_count": 1,
   "metadata": {},
   "outputs": [],
   "source": [
    "import numpy as np\n",
    "import matplotlib.pyplot as plt\n",
    "import networkx as nx\n",
    "\n",
    "import pickle\n",
    "\n",
    "from random import sample, seed\n",
    "from tqdm import tqdm\n",
    "from utils.propagators.directed import PropagateDirected\n",
    "from utils.metrics import accuracy, balanced_accuracy\n",
    "\n",
    "seed(42)"
   ]
  },
  {
   "cell_type": "code",
   "execution_count": 2,
   "metadata": {},
   "outputs": [],
   "source": [
    "# Load Graph.\n",
    "G = nx.read_gexf(\"../../state_files/PyPi Network V4.gexf\")\n",
    "# Keep only giant component.\n",
    "gc_nodes = sorted(nx.connected_components(G.to_undirected()), key = lambda x: len(x), reverse=True)[0]\n",
    "not_gc_nodes = set(G.nodes()) - gc_nodes\n",
    "G.remove_nodes_from(not_gc_nodes)\n",
    "\n",
    "# Load labels.\n",
    "with open(\"../../state_files/PyPi Dataframe V4 with subtopics.df\", \"rb\") as f:\n",
    "    df = pickle.load(f)\n",
    "labels = df[\"Topics for Propagation\"].dropna().to_dict()\n",
    "# Remove 'Other' topic.\n",
    "for n, l in labels.items():\n",
    "    if 'Other/Nonlisted Topic' in l:\n",
    "        l.remove('Other/Nonlisted Topic')\n",
    "# Filter nodes with no topics.\n",
    "labels = dict(filter(lambda x: len(x[1]) > 0, labels.items()))\n",
    "# Keep nodes from giant component.\n",
    "labels = dict(filter(lambda x: x[0] in gc_nodes, labels.items()))\n",
    "\n",
    "# Split train and test set.\n",
    "test_size = 0.1\n",
    "\n",
    "test_nodes = sample(list(labels.keys()), int(test_size*len(labels.keys())))\n",
    "train_nodes = list(filter(lambda x: x not in test_nodes, labels.keys()))\n",
    "\n",
    "train_labels = dict(filter(lambda x: x[0] in train_nodes, labels.items()))\n",
    "test_labels = dict(filter(lambda x: x[0] in test_nodes, labels.items()))"
   ]
  },
  {
   "cell_type": "code",
   "execution_count": 3,
   "metadata": {},
   "outputs": [
    {
     "name": "stdout",
     "output_type": "stream",
     "text": [
      "Calculating Proba.\n"
     ]
    },
    {
     "name": "stderr",
     "output_type": "stream",
     "text": [
      "100%|██████████| 38664/38664 [18:38<00:00, 34.56it/s]  \n",
      "100%|██████████| 101437/101437 [11:50<00:00, 142.75it/s]\n"
     ]
    },
    {
     "name": "stdout",
     "output_type": "stream",
     "text": [
      "140101 nodos etiquetados de 183495.\n"
     ]
    },
    {
     "name": "stderr",
     "output_type": "stream",
     "text": [
      "100%|██████████| 140101/140101 [09:39<00:00, 241.76it/s]  \n",
      "100%|██████████| 13662/13662 [02:23<00:00, 95.16it/s] \n"
     ]
    },
    {
     "name": "stdout",
     "output_type": "stream",
     "text": [
      "153763 nodos etiquetados de 183495.\n"
     ]
    },
    {
     "name": "stderr",
     "output_type": "stream",
     "text": [
      "100%|██████████| 153763/153763 [01:39<00:00, 1552.26it/s]   \n",
      "100%|██████████| 2004/2004 [00:35<00:00, 56.30it/s] \n"
     ]
    },
    {
     "name": "stdout",
     "output_type": "stream",
     "text": [
      "155767 nodos etiquetados de 183495.\n"
     ]
    },
    {
     "name": "stderr",
     "output_type": "stream",
     "text": [
      "100%|██████████| 155767/155767 [00:12<00:00, 12588.21it/s]  \n",
      "100%|██████████| 305/305 [00:07<00:00, 40.92it/s]\n"
     ]
    },
    {
     "name": "stdout",
     "output_type": "stream",
     "text": [
      "156072 nodos etiquetados de 183495.\n"
     ]
    },
    {
     "name": "stderr",
     "output_type": "stream",
     "text": [
      "100%|██████████| 156072/156072 [00:02<00:00, 55699.54it/s]  \n",
      "100%|██████████| 81/81 [00:01<00:00, 45.99it/s]\n"
     ]
    },
    {
     "name": "stdout",
     "output_type": "stream",
     "text": [
      "156153 nodos etiquetados de 183495.\n"
     ]
    },
    {
     "name": "stderr",
     "output_type": "stream",
     "text": [
      "100%|██████████| 156153/156153 [00:00<00:00, 296775.99it/s] \n",
      "100%|██████████| 14/14 [00:00<00:00, 19.24it/s]\n"
     ]
    },
    {
     "name": "stdout",
     "output_type": "stream",
     "text": [
      "156167 nodos etiquetados de 183495.\n"
     ]
    },
    {
     "name": "stderr",
     "output_type": "stream",
     "text": [
      "100%|██████████| 156167/156167 [00:00<00:00, 920753.22it/s] \n",
      "100%|██████████| 2/2 [00:00<00:00, 77.13it/s]\n"
     ]
    },
    {
     "name": "stdout",
     "output_type": "stream",
     "text": [
      "156169 nodos etiquetados de 183495.\n"
     ]
    },
    {
     "name": "stderr",
     "output_type": "stream",
     "text": [
      "100%|██████████| 156169/156169 [00:00<00:00, 1310258.03it/s]\n",
      "100%|██████████| 1/1 [00:00<00:00, 55.71it/s]\n"
     ]
    },
    {
     "name": "stdout",
     "output_type": "stream",
     "text": [
      "156170 nodos etiquetados de 183495.\n"
     ]
    },
    {
     "name": "stderr",
     "output_type": "stream",
     "text": [
      "100%|██████████| 156170/156170 [00:00<00:00, 1436595.76it/s]\n",
      "0it [00:00, ?it/s]\n"
     ]
    },
    {
     "name": "stdout",
     "output_type": "stream",
     "text": [
      "156170 nodos etiquetados de 183495.\n",
      "No se encontraron nuevas etiquetas.\n",
      "Accuracy: 31%\n",
      "Calculating Local.\n"
     ]
    },
    {
     "name": "stderr",
     "output_type": "stream",
     "text": [
      "100%|██████████| 38664/38664 [18:30<00:00, 34.82it/s]  \n",
      "100%|██████████| 101437/101437 [11:14<00:00, 150.32it/s]\n"
     ]
    },
    {
     "name": "stdout",
     "output_type": "stream",
     "text": [
      "140101 nodos etiquetados de 183495.\n"
     ]
    },
    {
     "name": "stderr",
     "output_type": "stream",
     "text": [
      "100%|██████████| 140101/140101 [09:04<00:00, 257.29it/s]  \n",
      "100%|██████████| 13662/13662 [02:15<00:00, 101.14it/s]\n"
     ]
    },
    {
     "name": "stdout",
     "output_type": "stream",
     "text": [
      "153763 nodos etiquetados de 183495.\n"
     ]
    },
    {
     "name": "stderr",
     "output_type": "stream",
     "text": [
      "100%|██████████| 153763/153763 [01:30<00:00, 1698.37it/s]   \n",
      "100%|██████████| 2004/2004 [00:33<00:00, 60.64it/s] \n"
     ]
    },
    {
     "name": "stdout",
     "output_type": "stream",
     "text": [
      "155767 nodos etiquetados de 183495.\n"
     ]
    },
    {
     "name": "stderr",
     "output_type": "stream",
     "text": [
      "100%|██████████| 155767/155767 [00:11<00:00, 13935.70it/s]  \n",
      "100%|██████████| 305/305 [00:07<00:00, 42.54it/s]\n"
     ]
    },
    {
     "name": "stdout",
     "output_type": "stream",
     "text": [
      "156072 nodos etiquetados de 183495.\n"
     ]
    },
    {
     "name": "stderr",
     "output_type": "stream",
     "text": [
      "100%|██████████| 156072/156072 [00:02<00:00, 61438.42it/s]  \n",
      "100%|██████████| 81/81 [00:01<00:00, 48.53it/s]\n"
     ]
    },
    {
     "name": "stdout",
     "output_type": "stream",
     "text": [
      "156153 nodos etiquetados de 183495.\n"
     ]
    },
    {
     "name": "stderr",
     "output_type": "stream",
     "text": [
      "100%|██████████| 156153/156153 [00:00<00:00, 315667.61it/s] \n",
      "100%|██████████| 14/14 [00:00<00:00, 19.93it/s]\n"
     ]
    },
    {
     "name": "stdout",
     "output_type": "stream",
     "text": [
      "156167 nodos etiquetados de 183495.\n"
     ]
    },
    {
     "name": "stderr",
     "output_type": "stream",
     "text": [
      "100%|██████████| 156167/156167 [00:00<00:00, 972390.36it/s] \n",
      "100%|██████████| 2/2 [00:00<00:00, 80.21it/s]\n"
     ]
    },
    {
     "name": "stdout",
     "output_type": "stream",
     "text": [
      "156169 nodos etiquetados de 183495.\n"
     ]
    },
    {
     "name": "stderr",
     "output_type": "stream",
     "text": [
      "100%|██████████| 156169/156169 [00:00<00:00, 1338754.12it/s]\n",
      "100%|██████████| 1/1 [00:00<00:00, 55.61it/s]\n"
     ]
    },
    {
     "name": "stdout",
     "output_type": "stream",
     "text": [
      "156170 nodos etiquetados de 183495.\n"
     ]
    },
    {
     "name": "stderr",
     "output_type": "stream",
     "text": [
      "100%|██████████| 156170/156170 [00:00<00:00, 1423146.35it/s]\n",
      "0it [00:00, ?it/s]\n"
     ]
    },
    {
     "name": "stdout",
     "output_type": "stream",
     "text": [
      "156170 nodos etiquetados de 183495.\n",
      "No se encontraron nuevas etiquetas.\n",
      "Accuracy: 37%\n",
      "Calculating Global.\n"
     ]
    },
    {
     "name": "stderr",
     "output_type": "stream",
     "text": [
      "100%|██████████| 38664/38664 [18:10<00:00, 35.47it/s]  \n",
      "100%|██████████| 101437/101437 [10:46<00:00, 156.91it/s]\n"
     ]
    },
    {
     "name": "stdout",
     "output_type": "stream",
     "text": [
      "140101 nodos etiquetados de 183495.\n"
     ]
    },
    {
     "name": "stderr",
     "output_type": "stream",
     "text": [
      "100%|██████████| 140101/140101 [10:04<00:00, 231.60it/s]  \n",
      "100%|██████████| 13662/13662 [02:23<00:00, 95.46it/s] \n"
     ]
    },
    {
     "name": "stdout",
     "output_type": "stream",
     "text": [
      "153763 nodos etiquetados de 183495.\n"
     ]
    },
    {
     "name": "stderr",
     "output_type": "stream",
     "text": [
      "100%|██████████| 153763/153763 [01:35<00:00, 1612.73it/s]   \n",
      "100%|██████████| 2004/2004 [00:37<00:00, 52.98it/s] \n"
     ]
    },
    {
     "name": "stdout",
     "output_type": "stream",
     "text": [
      "155767 nodos etiquetados de 183495.\n"
     ]
    },
    {
     "name": "stderr",
     "output_type": "stream",
     "text": [
      "100%|██████████| 155767/155767 [00:11<00:00, 13071.12it/s]  \n",
      "100%|██████████| 305/305 [00:07<00:00, 38.82it/s]\n"
     ]
    },
    {
     "name": "stdout",
     "output_type": "stream",
     "text": [
      "156072 nodos etiquetados de 183495.\n"
     ]
    },
    {
     "name": "stderr",
     "output_type": "stream",
     "text": [
      "100%|██████████| 156072/156072 [00:02<00:00, 57599.13it/s]  \n",
      "100%|██████████| 81/81 [00:01<00:00, 45.26it/s]\n"
     ]
    },
    {
     "name": "stdout",
     "output_type": "stream",
     "text": [
      "156153 nodos etiquetados de 183495.\n"
     ]
    },
    {
     "name": "stderr",
     "output_type": "stream",
     "text": [
      "100%|██████████| 156153/156153 [00:00<00:00, 300508.08it/s] \n",
      "100%|██████████| 14/14 [00:00<00:00, 19.18it/s]\n"
     ]
    },
    {
     "name": "stdout",
     "output_type": "stream",
     "text": [
      "156167 nodos etiquetados de 183495.\n"
     ]
    },
    {
     "name": "stderr",
     "output_type": "stream",
     "text": [
      "100%|██████████| 156167/156167 [00:00<00:00, 894767.51it/s] \n",
      "100%|██████████| 2/2 [00:00<00:00, 77.12it/s]\n"
     ]
    },
    {
     "name": "stdout",
     "output_type": "stream",
     "text": [
      "156169 nodos etiquetados de 183495.\n"
     ]
    },
    {
     "name": "stderr",
     "output_type": "stream",
     "text": [
      "100%|██████████| 156169/156169 [00:00<00:00, 1252392.88it/s]\n",
      "100%|██████████| 1/1 [00:00<00:00, 50.14it/s]\n"
     ]
    },
    {
     "name": "stdout",
     "output_type": "stream",
     "text": [
      "156170 nodos etiquetados de 183495.\n"
     ]
    },
    {
     "name": "stderr",
     "output_type": "stream",
     "text": [
      "100%|██████████| 156170/156170 [00:00<00:00, 1283511.04it/s]\n",
      "0it [00:00, ?it/s]"
     ]
    },
    {
     "name": "stdout",
     "output_type": "stream",
     "text": [
      "156170 nodos etiquetados de 183495."
     ]
    },
    {
     "name": "stderr",
     "output_type": "stream",
     "text": [
      "\n"
     ]
    },
    {
     "name": "stdout",
     "output_type": "stream",
     "text": [
      "\n",
      "No se encontraron nuevas etiquetas.\n",
      "Accuracy: 29%\n"
     ]
    }
   ],
   "source": [
    "# Método Probabilístico.\n",
    "try:\n",
    "    with open(\"pl_sub_proba.pickle\", \"rb\") as f:\n",
    "        pl_proba = pickle.load(f)\n",
    "        fl_proba = pl_proba.labels\n",
    "        print(\"Loaded Proba.\")\n",
    "except FileNotFoundError:\n",
    "    print(\"Calculating Proba.\")\n",
    "    pl_proba = PropagateDirected(G, train_labels, method = \"probability\")\n",
    "    fl_proba = pl_proba.propagate_all()\n",
    "    with open(\"pl_sub_proba.pickle\", \"wb\") as f:\n",
    "        pickle.dump(pl_proba, f)\n",
    "\n",
    "acc_proba = accuracy(test_labels, fl_proba)\n",
    "bal_acc_proba, times_seen_proba = balanced_accuracy(test_labels, fl_proba)\n",
    "\n",
    "# Método de detección local.\n",
    "try:\n",
    "    with open(\"pl_sub_local.pickle\", \"rb\") as f:\n",
    "        pl_local = pickle.load(f)\n",
    "        fl_local = pl_local.labels\n",
    "        print(\"Loaded Local.\")\n",
    "except FileNotFoundError:\n",
    "    print(\"Calculating Local.\")\n",
    "    pl_local = PropagateDirected(G, train_labels, method = \"local\")\n",
    "    fl_local = pl_local.propagate_all()\n",
    "    with open(\"pl_sub_local.pickle\", \"wb\") as f:\n",
    "        pickle.dump(pl_local, f)\n",
    "    \n",
    "acc_local = accuracy(test_labels, fl_local)\n",
    "bal_acc_local, times_seen_local = balanced_accuracy(test_labels, fl_local)\n",
    "\n",
    "# Método ponderando contribuciones globales.\n",
    "try:\n",
    "    with open(\"pl_sub_global.pickle\", \"rb\") as f:\n",
    "        pl_global = pickle.load(f)\n",
    "        fl_global = pl_global.labels\n",
    "        print(\"Loaded Global.\")\n",
    "except FileNotFoundError:\n",
    "    print(\"Calculating Global.\")\n",
    "    pl_global = PropagateDirected(G, train_labels, method = \"global\")\n",
    "    fl_global = pl_global.propagate_all()\n",
    "    with open(\"pl_sub_global.pickle\", \"wb\") as f:\n",
    "        pickle.dump(pl_global, f)\n",
    "\n",
    "acc_global = accuracy(test_labels, fl_global)\n",
    "bal_acc_global, times_seen_global = balanced_accuracy(test_labels, fl_global)"
   ]
  },
  {
   "cell_type": "code",
   "execution_count": 4,
   "metadata": {},
   "outputs": [
    {
     "name": "stdout",
     "output_type": "stream",
     "text": [
      "Balanced Accuracy: Modelo de propagación aleatoria.\n",
      "11%\n",
      "Balanced Accuracy: Modelo de propagación con criterios locales.\n",
      "12%\n",
      "Balanced Accuracy: Modelo de propagación con criterios globales.\n",
      "19%\n",
      "Balanced Accuracy: Modelo de tirar un dado de 23 caras\n",
      "0%\n",
      "Balanced Accuracy: Modelo de etiquetar TODO con la etiqueta mas común\n"
     ]
    },
    {
     "ename": "KeyError",
     "evalue": "'Software Development'",
     "output_type": "error",
     "traceback": [
      "\u001b[1;31m---------------------------------------------------------------------------\u001b[0m",
      "\u001b[1;31mKeyError\u001b[0m                                  Traceback (most recent call last)",
      "Cell \u001b[1;32mIn [4], line 20\u001b[0m\n\u001b[0;32m     17\u001b[0m \u001b[39mprint\u001b[39m(\u001b[39mf\u001b[39m\u001b[39m\"\u001b[39m\u001b[39m{\u001b[39;00m\u001b[39msum\u001b[39m(accuracy_per_topic\u001b[39m.\u001b[39mvalues())\u001b[39m/\u001b[39m\u001b[39mlen\u001b[39m(accuracy_per_topic\u001b[39m.\u001b[39mvalues())\u001b[39m*\u001b[39m\u001b[39m100\u001b[39m\u001b[39m:\u001b[39;00m\u001b[39m.0f\u001b[39m\u001b[39m}\u001b[39;00m\u001b[39m%\u001b[39m\u001b[39m\"\u001b[39m)\n\u001b[0;32m     19\u001b[0m \u001b[39mprint\u001b[39m(\u001b[39m\"\u001b[39m\u001b[39mBalanced Accuracy: Modelo de etiquetar TODO con la etiqueta mas común\u001b[39m\u001b[39m\"\u001b[39m)\n\u001b[1;32m---> 20\u001b[0m \u001b[39mprint\u001b[39m(\u001b[39mf\u001b[39m\u001b[39m'\u001b[39m\u001b[39m{\u001b[39;00m\u001b[39m1\u001b[39m \u001b[39m*\u001b[39m (times_seen_local[\u001b[39m\"\u001b[39;49m\u001b[39mSoftware Development\u001b[39;49m\u001b[39m\"\u001b[39;49m]\u001b[39m/\u001b[39m\u001b[39msum\u001b[39m(times_seen_local\u001b[39m.\u001b[39mvalues())) \u001b[39m/\u001b[39m \u001b[39mlen\u001b[39m(times_seen_local)\u001b[39m*\u001b[39m\u001b[39m100\u001b[39m\u001b[39m:\u001b[39;00m\u001b[39m.0f\u001b[39m\u001b[39m}\u001b[39;00m\u001b[39m%\u001b[39m\u001b[39m'\u001b[39m)\n",
      "\u001b[1;31mKeyError\u001b[0m: 'Software Development'"
     ]
    }
   ],
   "source": [
    "print(\"Balanced Accuracy: Modelo de propagación aleatoria.\")\n",
    "print(f\"{bal_acc_proba*100:.0f}%\")\n",
    "\n",
    "print(\"Balanced Accuracy: Modelo de propagación con criterios locales.\")\n",
    "print(f\"{bal_acc_local*100:.0f}%\")\n",
    "\n",
    "print(\"Balanced Accuracy: Modelo de propagación con criterios globales.\")\n",
    "print(f\"{bal_acc_global*100:.0f}%\")\n",
    "\n",
    "print(\"Balanced Accuracy: Modelo de tirar un dado de 23 caras\")\n",
    "label_collector = []\n",
    "for n, l in test_labels.items():\n",
    "    label_collector += l\n",
    "topics = set(label_collector)\n",
    "matches = {t: int(times_seen_local[t]/len(times_seen_local)) for t in topics}\n",
    "accuracy_per_topic = {t: matches[t]/times_seen_global[t] for t in topics}\n",
    "print(f\"{sum(accuracy_per_topic.values())/len(accuracy_per_topic.values())*100:.0f}%\")\n",
    "\n",
    "print(\"Balanced Accuracy: Modelo de etiquetar TODO con la etiqueta mas común\")\n",
    "print(f'{1 * (times_seen_local[\"Software Development\"]/sum(times_seen_local.values())) / len(times_seen_local)*100:.0f}%')"
   ]
  },
  {
   "cell_type": "code",
   "execution_count": null,
   "metadata": {},
   "outputs": [],
   "source": []
  }
 ],
 "metadata": {
  "kernelspec": {
   "display_name": "Python 3 (ipykernel)",
   "language": "python",
   "name": "python3"
  },
  "language_info": {
   "codemirror_mode": {
    "name": "ipython",
    "version": 3
   },
   "file_extension": ".py",
   "mimetype": "text/x-python",
   "name": "python",
   "nbconvert_exporter": "python",
   "pygments_lexer": "ipython3",
   "version": "3.10.8"
  },
  "vscode": {
   "interpreter": {
    "hash": "a42cd95ca9a57c6387dbbfdd995a278478871c13a93fa5b980ac93bb6d23c0e2"
   }
  }
 },
 "nbformat": 4,
 "nbformat_minor": 2
}
