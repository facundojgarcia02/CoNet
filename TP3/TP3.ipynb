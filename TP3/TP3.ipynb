{
 "cells": [
  {
   "cell_type": "code",
   "execution_count": 1,
   "id": "c31d6f98-8b7c-41dd-be6c-01e16eba5413",
   "metadata": {},
   "outputs": [],
   "source": [
    "import pandas as pd\n",
    "import matplotlib.pyplot as plt\n",
    "import numpy as np\n",
    "import networkx as nx"
   ]
  },
  {
   "cell_type": "code",
   "execution_count": 2,
   "id": "4613d52b-a6f8-41e9-94fc-565f1a7fc8d7",
   "metadata": {},
   "outputs": [],
   "source": [
    "#Carga de DataFrames\n",
    "df_y2h = pd.read_csv(\"datasets/yeast_Y2H.txt\", delimiter = \"\\t\", header = None, names = [\"source\", \"target\"])\n",
    "df_apms = pd.read_csv(\"datasets/yeast_AP-MS.txt\", delimiter = \"\\t\", header = None, names = [\"source\", \"target\"])\n",
    "df_lit = pd.read_csv(\"datasets/yeast_LIT.txt\", delimiter = \"\\t\", header = None, names = [\"source\", \"target\"])\n",
    "df_litreg = pd.read_csv(\"datasets/yeast_LIT_Reguly.txt\", delimiter = \"\\t\")\n",
    "df_litref_mod = df_litreg.rename(columns = {\"Bait gene/protein\": \"source\", \"Hit gene/protein\": \"target\"})[[\"source\", \"target\"]]\n",
    "\n",
    "#Carga de Redes\n",
    "graph_y2h = nx.from_pandas_edgelist(df_y2h)\n",
    "graph_apms = nx.from_pandas_edgelist(df_apms)\n",
    "graph_lit = nx.from_pandas_edgelist(df_lit)\n",
    "graph_litreg = nx.from_pandas_edgelist(df_litref_mod)"
   ]
  },
  {
   "cell_type": "code",
   "execution_count": 5,
   "id": "3e79c841-5bd3-45e3-bb7a-71d4a934b8f9",
   "metadata": {},
   "outputs": [
    {
     "name": "stdout",
     "output_type": "stream",
     "text": [
      "Valores no nulos en 'Essential_ORFs_paperHe':\n"
     ]
    },
    {
     "data": {
      "text/plain": [
       "rec_num                 1157\n",
       "ORF_name                1156\n",
       "deletion_alias            71\n",
       "gene_names               472\n",
       "UPTAG_sequence_20mer    1156\n",
       "DNTAG_sequence_20mer    1128\n",
       "dtype: int64"
      ]
     },
     "metadata": {},
     "output_type": "display_data"
    },
    {
     "data": {
      "text/html": [
       "<div>\n",
       "<style scoped>\n",
       "    .dataframe tbody tr th:only-of-type {\n",
       "        vertical-align: middle;\n",
       "    }\n",
       "\n",
       "    .dataframe tbody tr th {\n",
       "        vertical-align: top;\n",
       "    }\n",
       "\n",
       "    .dataframe thead th {\n",
       "        text-align: right;\n",
       "    }\n",
       "</style>\n",
       "<table border=\"1\" class=\"dataframe\">\n",
       "  <thead>\n",
       "    <tr style=\"text-align: right;\">\n",
       "      <th></th>\n",
       "      <th>rec_num</th>\n",
       "      <th>ORF_name</th>\n",
       "      <th>deletion_alias</th>\n",
       "      <th>gene_names</th>\n",
       "      <th>UPTAG_sequence_20mer</th>\n",
       "      <th>DNTAG_sequence_20mer</th>\n",
       "    </tr>\n",
       "  </thead>\n",
       "  <tbody>\n",
       "    <tr>\n",
       "      <th>1</th>\n",
       "      <td>20406</td>\n",
       "      <td>YAL001C</td>\n",
       "      <td>None</td>\n",
       "      <td>[TSV115, FUN24]</td>\n",
       "      <td>ACTATATGTGAAGGCATGGC</td>\n",
       "      <td>None</td>\n",
       "    </tr>\n",
       "    <tr>\n",
       "      <th>2</th>\n",
       "      <td>20404</td>\n",
       "      <td>YAL003W</td>\n",
       "      <td>None</td>\n",
       "      <td>[TEF5]</td>\n",
       "      <td>GACATATCAGCATACATGGC</td>\n",
       "      <td>None</td>\n",
       "    </tr>\n",
       "    <tr>\n",
       "      <th>3</th>\n",
       "      <td>20383</td>\n",
       "      <td>YAL025C</td>\n",
       "      <td>None</td>\n",
       "      <td>NaN</td>\n",
       "      <td>TGCCGCATCAAAGAGGCCAA</td>\n",
       "      <td>None</td>\n",
       "    </tr>\n",
       "    <tr>\n",
       "      <th>4</th>\n",
       "      <td>20376</td>\n",
       "      <td>YAL032C</td>\n",
       "      <td>None</td>\n",
       "      <td>[FUN20]</td>\n",
       "      <td>TGATCCGCGTCGATGCTCTT</td>\n",
       "      <td>None</td>\n",
       "    </tr>\n",
       "    <tr>\n",
       "      <th>5</th>\n",
       "      <td>20375</td>\n",
       "      <td>YAL033W</td>\n",
       "      <td>None</td>\n",
       "      <td>[FUN53]</td>\n",
       "      <td>CTGACTTAGTGCATACTGCT</td>\n",
       "      <td>None</td>\n",
       "    </tr>\n",
       "  </tbody>\n",
       "</table>\n",
       "</div>"
      ],
      "text/plain": [
       "  rec_num   ORF_name deletion_alias       gene_names  UPTAG_sequence_20mer  \\\n",
       "1   20406  YAL001C             None  [TSV115, FUN24]  ACTATATGTGAAGGCATGGC   \n",
       "2   20404  YAL003W             None           [TEF5]  GACATATCAGCATACATGGC   \n",
       "3   20383  YAL025C             None              NaN  TGCCGCATCAAAGAGGCCAA   \n",
       "4   20376  YAL032C             None          [FUN20]  TGATCCGCGTCGATGCTCTT   \n",
       "5   20375  YAL033W             None          [FUN53]  CTGACTTAGTGCATACTGCT   \n",
       "\n",
       "  DNTAG_sequence_20mer  \n",
       "1                 None  \n",
       "2                 None  \n",
       "3                 None  \n",
       "4                 None  \n",
       "5                 None  "
      ]
     },
     "metadata": {},
     "output_type": "display_data"
    }
   ],
   "source": [
    "#Carga y modificación de Essential_ORFs_paperHe.txt\n",
    "\n",
    "def parse_list(x):\n",
    "    splitted = x.split(\",\")\n",
    "    if len(splitted) == 1 and splitted[0] == \"\":\n",
    "        return None\n",
    "    return splitted\n",
    "\n",
    "def remove_spaces(x):\n",
    "    removed = x.replace(\" \", \"\")\n",
    "    if removed == \"\":\n",
    "        return None\n",
    "    return removed\n",
    "\n",
    "ess = pd.read_csv(\"datasets/Essential_ORFs_paperHe.txt\", delimiter=\"\\t\")\n",
    "ess.drop(0, inplace=True) #Eliminamos los guiones.\n",
    "ess.where(pd.notnull(ess), None, inplace=True) #Reemplaza los NaNs de numpy con Nones\n",
    "ess.rename(columns = {\"gene_names                                           \": \"gene_names\"}, inplace = True)\n",
    "\n",
    "#Quitamos espacios innecesarios\n",
    "ess[\"gene_names\"] = ess[\"gene_names\"].dropna().apply(remove_spaces)\n",
    "ess[\"deletion_alias\"] = ess[\"deletion_alias\"].dropna().apply(remove_spaces)\n",
    "\n",
    "#Parseamos listas\n",
    "ess[\"gene_names\"] = ess[\"gene_names\"].dropna().apply(parse_list)\n",
    "\n",
    "print(\"Valores no nulos en 'Essential_ORFs_paperHe':\")\n",
    "display(ess.dropna(how=\"all\").count())\n",
    "display(ess.head(5))"
   ]
  },
  {
   "cell_type": "code",
   "execution_count": null,
   "id": "f6d30705-68ae-4e17-9c19-c0201b8cc999",
   "metadata": {},
   "outputs": [],
   "source": []
  }
 ],
 "metadata": {
  "kernelspec": {
   "display_name": "Python 3 (ipykernel)",
   "language": "python",
   "name": "python3"
  },
  "language_info": {
   "codemirror_mode": {
    "name": "ipython",
    "version": 3
   },
   "file_extension": ".py",
   "mimetype": "text/x-python",
   "name": "python",
   "nbconvert_exporter": "python",
   "pygments_lexer": "ipython3",
   "version": "3.9.13"
  }
 },
 "nbformat": 4,
 "nbformat_minor": 5
}
