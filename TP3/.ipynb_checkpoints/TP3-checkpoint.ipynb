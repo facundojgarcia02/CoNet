{
 "cells": [
  {
   "cell_type": "code",
   "execution_count": 1,
   "id": "c31d6f98-8b7c-41dd-be6c-01e16eba5413",
   "metadata": {},
   "outputs": [],
   "source": [
    "import pandas as pd\n",
    "import matplotlib.pyplot as plt\n",
    "import numpy as np\n",
    "import networkx as nx"
   ]
  },
  {
   "cell_type": "code",
   "execution_count": 10,
   "id": "4613d52b-a6f8-41e9-94fc-565f1a7fc8d7",
   "metadata": {},
   "outputs": [],
   "source": [
    "#Carga de DataFrames\n",
    "df_y2h = pd.read_csv(\"datasets/yeast_Y2H.txt\", delimiter = \"\\t\", header = None, names = [\"source\", \"target\"])\n",
    "df_apms = pd.read_csv(\"datasets/yeast_AP-MS.txt\", delimiter = \"\\t\", header = None, names = [\"source\", \"target\"])\n",
    "df_lit = pd.read_csv(\"datasets/yeast_LIT.txt\", delimiter = \"\\t\", header = None, names = [\"source\", \"target\"])\n",
    "df_litreg = pd.read_csv(\"datasets/yeast_LIT_Reguly.txt\", delimiter = \"\\t\")\n",
    "df_litref_mod = df_litreg.rename(columns = {\"Bait gene/protein\": \"source\", \"Hit gene/protein\": \"target\"})[[\"source\", \"target\"]]\n",
    "\n",
    "#Carga de Redes\n",
    "graph_y2h = nx.from_pandas_edgeSlist(df_y2h)\n",
    "graph_apms = nx.from_pandas_edgelist(df_y2h)\n",
    "graph_lit = nx.from_pandas_edgelist(df_lit)\n",
    "graph_litreg = nx.from_pandas_edgelist(df_litref_mod)"
   ]
  },
  {
   "cell_type": "code",
   "execution_count": null,
   "id": "3e79c841-5bd3-45e3-bb7a-71d4a934b8f9",
   "metadata": {},
   "outputs": [],
   "source": []
  }
 ],
 "metadata": {
  "kernelspec": {
   "display_name": "Python 3 (ipykernel)",
   "language": "python",
   "name": "python3"
  },
  "language_info": {
   "codemirror_mode": {
    "name": "ipython",
    "version": 3
   },
   "file_extension": ".py",
   "mimetype": "text/x-python",
   "name": "python",
   "nbconvert_exporter": "python",
   "pygments_lexer": "ipython3",
   "version": "3.9.13"
  }
 },
 "nbformat": 4,
 "nbformat_minor": 5
}
